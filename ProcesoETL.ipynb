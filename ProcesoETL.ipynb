{
 "cells": [
  {
   "cell_type": "code",
   "execution_count": 2,
   "metadata": {},
   "outputs": [
    {
     "data": {
      "text/plain": [
       "polars.config.Config"
      ]
     },
     "execution_count": 2,
     "metadata": {},
     "output_type": "execute_result"
    }
   ],
   "source": [
    "import polars  as pl\n",
    "from polars import Config\n",
    "\n",
    "Config.set_fmt_str_lengths(100)"
   ]
  },
  {
   "cell_type": "markdown",
   "metadata": {},
   "source": [
    "####leyendo un archivo sin encabezado"
   ]
  },
  {
   "cell_type": "code",
   "execution_count": 3,
   "metadata": {},
   "outputs": [
    {
     "name": "stderr",
     "output_type": "stream",
     "text": [
      "<>:1: SyntaxWarning: invalid escape sequence '\\S'\n",
      "<>:1: SyntaxWarning: invalid escape sequence '\\S'\n",
      "C:\\Users\\luis\\AppData\\Local\\Temp\\ipykernel_9584\\3138552372.py:1: SyntaxWarning: invalid escape sequence '\\S'\n",
      "  df=pl.read_csv(source='./Tickets\\SinEncabezado.txt',separator=\";\"\n"
     ]
    },
    {
     "data": {
      "text/html": [
       "<div><style>\n",
       ".dataframe > thead > tr,\n",
       ".dataframe > tbody > tr {\n",
       "  text-align: right;\n",
       "  white-space: pre-wrap;\n",
       "}\n",
       "</style>\n",
       "<small>shape: (5, 4)</small><table border=\"1\" class=\"dataframe\"><thead><tr><th>TicketID</th><th>Estado</th><th>Fecha Creacion</th><th>Clasificacion</th></tr><tr><td>str</td><td>str</td><td>date</td><td>i64</td></tr></thead><tbody><tr><td>&quot;WO0000004122687&quot;</td><td>&quot;Cerrado&quot;</td><td>2022-06-01</td><td>3</td></tr><tr><td>&quot;WO0000004122649&quot;</td><td>&quot;Cerrado&quot;</td><td>2022-06-01</td><td>3</td></tr><tr><td>&quot;WO0000004122502&quot;</td><td>&quot;Cerrado&quot;</td><td>2022-06-01</td><td>3</td></tr><tr><td>&quot;WO0000004122513&quot;</td><td>&quot;Cerrado&quot;</td><td>2022-06-01</td><td>3</td></tr><tr><td>&quot;WO0000004122741&quot;</td><td>&quot;Cerrado&quot;</td><td>2022-06-01</td><td>3</td></tr></tbody></table></div>"
      ],
      "text/plain": [
       "shape: (5, 4)\n",
       "┌─────────────────┬─────────┬────────────────┬───────────────┐\n",
       "│ TicketID        ┆ Estado  ┆ Fecha Creacion ┆ Clasificacion │\n",
       "│ ---             ┆ ---     ┆ ---            ┆ ---           │\n",
       "│ str             ┆ str     ┆ date           ┆ i64           │\n",
       "╞═════════════════╪═════════╪════════════════╪═══════════════╡\n",
       "│ WO0000004122687 ┆ Cerrado ┆ 2022-06-01     ┆ 3             │\n",
       "│ WO0000004122649 ┆ Cerrado ┆ 2022-06-01     ┆ 3             │\n",
       "│ WO0000004122502 ┆ Cerrado ┆ 2022-06-01     ┆ 3             │\n",
       "│ WO0000004122513 ┆ Cerrado ┆ 2022-06-01     ┆ 3             │\n",
       "│ WO0000004122741 ┆ Cerrado ┆ 2022-06-01     ┆ 3             │\n",
       "└─────────────────┴─────────┴────────────────┴───────────────┘"
      ]
     },
     "execution_count": 3,
     "metadata": {},
     "output_type": "execute_result"
    }
   ],
   "source": [
    "df=pl.read_csv(source='./Tickets\\SinEncabezado.txt',separator=\";\"\n",
    "               ,has_header=False,\n",
    "               schema={\n",
    "                   'TicketID':pl.Utf8,\n",
    "                   'Estado':pl.Utf8,\n",
    "                   'Fecha Creacion':pl.Date,\n",
    "                   'Clasificacion':pl.Int64}\n",
    "               ,ignore_errors=True  ##ayuda a corregir los errores de valores nulos\n",
    "               )\n",
    "\n",
    "df.head()"
   ]
  },
  {
   "cell_type": "code",
   "execution_count": 4,
   "metadata": {},
   "outputs": [
    {
     "data": {
      "text/html": [
       "<div><style>\n",
       ".dataframe > thead > tr,\n",
       ".dataframe > tbody > tr {\n",
       "  text-align: right;\n",
       "  white-space: pre-wrap;\n",
       "}\n",
       "</style>\n",
       "<small>shape: (0, 4)</small><table border=\"1\" class=\"dataframe\"><thead><tr><th>TicketID</th><th>Estado</th><th>Fecha Creacion</th><th>Clasificacion</th></tr><tr><td>str</td><td>str</td><td>date</td><td>i64</td></tr></thead><tbody></tbody></table></div>"
      ],
      "text/plain": [
       "shape: (0, 4)\n",
       "┌──────────┬────────┬────────────────┬───────────────┐\n",
       "│ TicketID ┆ Estado ┆ Fecha Creacion ┆ Clasificacion │\n",
       "│ ---      ┆ ---    ┆ ---            ┆ ---           │\n",
       "│ str      ┆ str    ┆ date           ┆ i64           │\n",
       "╞══════════╪════════╪════════════════╪═══════════════╡\n",
       "└──────────┴────────┴────────────────┴───────────────┘"
      ]
     },
     "execution_count": 4,
     "metadata": {},
     "output_type": "execute_result"
    }
   ],
   "source": [
    "df.filter(\n",
    "    pl.col('Fecha Creacion').is_null()\n",
    ")"
   ]
  },
  {
   "cell_type": "code",
   "execution_count": 5,
   "metadata": {},
   "outputs": [
    {
     "name": "stderr",
     "output_type": "stream",
     "text": [
      "<>:1: SyntaxWarning: invalid escape sequence '\\S'\n",
      "<>:1: SyntaxWarning: invalid escape sequence '\\S'\n",
      "C:\\Users\\luis\\AppData\\Local\\Temp\\ipykernel_9584\\2949470274.py:1: SyntaxWarning: invalid escape sequence '\\S'\n",
      "  df2=pl.read_csv(source='./Tickets\\SinEncabezado.txt',separator=\";\"\n"
     ]
    },
    {
     "data": {
      "text/html": [
       "<div><style>\n",
       ".dataframe > thead > tr,\n",
       ".dataframe > tbody > tr {\n",
       "  text-align: right;\n",
       "  white-space: pre-wrap;\n",
       "}\n",
       "</style>\n",
       "<small>shape: (5, 4)</small><table border=\"1\" class=\"dataframe\"><thead><tr><th>column_1</th><th>column_2</th><th>column_3</th><th>column_4</th></tr><tr><td>str</td><td>str</td><td>str</td><td>i64</td></tr></thead><tbody><tr><td>&quot;WO0000004122687&quot;</td><td>&quot;Cerrado&quot;</td><td>&quot;01/06/2022&quot;</td><td>3</td></tr><tr><td>&quot;WO0000004122649&quot;</td><td>&quot;Cerrado&quot;</td><td>&quot;1/06/2022&quot;</td><td>3</td></tr><tr><td>&quot;WO0000004122502&quot;</td><td>&quot;Cerrado&quot;</td><td>&quot;1/06/2022&quot;</td><td>3</td></tr><tr><td>&quot;WO0000004122513&quot;</td><td>&quot;Cerrado&quot;</td><td>&quot;1/06/2022&quot;</td><td>3</td></tr><tr><td>&quot;WO0000004122741&quot;</td><td>&quot;Cerrado&quot;</td><td>&quot;1/06/2022&quot;</td><td>3</td></tr></tbody></table></div>"
      ],
      "text/plain": [
       "shape: (5, 4)\n",
       "┌─────────────────┬──────────┬────────────┬──────────┐\n",
       "│ column_1        ┆ column_2 ┆ column_3   ┆ column_4 │\n",
       "│ ---             ┆ ---      ┆ ---        ┆ ---      │\n",
       "│ str             ┆ str      ┆ str        ┆ i64      │\n",
       "╞═════════════════╪══════════╪════════════╪══════════╡\n",
       "│ WO0000004122687 ┆ Cerrado  ┆ 01/06/2022 ┆ 3        │\n",
       "│ WO0000004122649 ┆ Cerrado  ┆ 1/06/2022  ┆ 3        │\n",
       "│ WO0000004122502 ┆ Cerrado  ┆ 1/06/2022  ┆ 3        │\n",
       "│ WO0000004122513 ┆ Cerrado  ┆ 1/06/2022  ┆ 3        │\n",
       "│ WO0000004122741 ┆ Cerrado  ┆ 1/06/2022  ┆ 3        │\n",
       "└─────────────────┴──────────┴────────────┴──────────┘"
      ]
     },
     "execution_count": 5,
     "metadata": {},
     "output_type": "execute_result"
    }
   ],
   "source": [
    "df2=pl.read_csv(source='./Tickets\\SinEncabezado.txt',separator=\";\"\n",
    "               ,has_header=False,\n",
    "              \n",
    "               )\n",
    "\n",
    "df2.head()"
   ]
  },
  {
   "cell_type": "code",
   "execution_count": 6,
   "metadata": {},
   "outputs": [],
   "source": [
    "##Renombrar las Columnas\n",
    "df2=df2.rename({'column_1':'TicketID',\n",
    "            'column_2':\"Estado\",\n",
    "            'column_3':'Fecha Creacion',\n",
    "            'column_4':\"Clasificacion\"\n",
    "            })"
   ]
  },
  {
   "cell_type": "code",
   "execution_count": 7,
   "metadata": {},
   "outputs": [
    {
     "data": {
      "text/html": [
       "<div><style>\n",
       ".dataframe > thead > tr,\n",
       ".dataframe > tbody > tr {\n",
       "  text-align: right;\n",
       "  white-space: pre-wrap;\n",
       "}\n",
       "</style>\n",
       "<small>shape: (5, 4)</small><table border=\"1\" class=\"dataframe\"><thead><tr><th>TicketID</th><th>Estado</th><th>Fecha Creacion</th><th>Clasificacion</th></tr><tr><td>str</td><td>str</td><td>str</td><td>i64</td></tr></thead><tbody><tr><td>&quot;WO0000004122687&quot;</td><td>&quot;Cerrado&quot;</td><td>&quot;01/06/2022&quot;</td><td>3</td></tr><tr><td>&quot;WO0000004122649&quot;</td><td>&quot;Cerrado&quot;</td><td>&quot;1/06/2022&quot;</td><td>3</td></tr><tr><td>&quot;WO0000004122502&quot;</td><td>&quot;Cerrado&quot;</td><td>&quot;1/06/2022&quot;</td><td>3</td></tr><tr><td>&quot;WO0000004122513&quot;</td><td>&quot;Cerrado&quot;</td><td>&quot;1/06/2022&quot;</td><td>3</td></tr><tr><td>&quot;WO0000004122741&quot;</td><td>&quot;Cerrado&quot;</td><td>&quot;1/06/2022&quot;</td><td>3</td></tr></tbody></table></div>"
      ],
      "text/plain": [
       "shape: (5, 4)\n",
       "┌─────────────────┬─────────┬────────────────┬───────────────┐\n",
       "│ TicketID        ┆ Estado  ┆ Fecha Creacion ┆ Clasificacion │\n",
       "│ ---             ┆ ---     ┆ ---            ┆ ---           │\n",
       "│ str             ┆ str     ┆ str            ┆ i64           │\n",
       "╞═════════════════╪═════════╪════════════════╪═══════════════╡\n",
       "│ WO0000004122687 ┆ Cerrado ┆ 01/06/2022     ┆ 3             │\n",
       "│ WO0000004122649 ┆ Cerrado ┆ 1/06/2022      ┆ 3             │\n",
       "│ WO0000004122502 ┆ Cerrado ┆ 1/06/2022      ┆ 3             │\n",
       "│ WO0000004122513 ┆ Cerrado ┆ 1/06/2022      ┆ 3             │\n",
       "│ WO0000004122741 ┆ Cerrado ┆ 1/06/2022      ┆ 3             │\n",
       "└─────────────────┴─────────┴────────────────┴───────────────┘"
      ]
     },
     "execution_count": 7,
     "metadata": {},
     "output_type": "execute_result"
    }
   ],
   "source": [
    "df2.head()"
   ]
  },
  {
   "cell_type": "code",
   "execution_count": 8,
   "metadata": {},
   "outputs": [
    {
     "data": {
      "text/html": [
       "<div><style>\n",
       ".dataframe > thead > tr,\n",
       ".dataframe > tbody > tr {\n",
       "  text-align: right;\n",
       "  white-space: pre-wrap;\n",
       "}\n",
       "</style>\n",
       "<small>shape: (9_206, 4)</small><table border=\"1\" class=\"dataframe\"><thead><tr><th>TicketID</th><th>Estado</th><th>Fecha Creacion</th><th>Clasificacion</th></tr><tr><td>str</td><td>str</td><td>date</td><td>i64</td></tr></thead><tbody><tr><td>&quot;WO0000004122687&quot;</td><td>&quot;Cerrado&quot;</td><td>2022-06-01</td><td>3</td></tr><tr><td>&quot;WO0000004122649&quot;</td><td>&quot;Cerrado&quot;</td><td>2022-06-01</td><td>3</td></tr><tr><td>&quot;WO0000004122502&quot;</td><td>&quot;Cerrado&quot;</td><td>2022-06-01</td><td>3</td></tr><tr><td>&quot;WO0000004122513&quot;</td><td>&quot;Cerrado&quot;</td><td>2022-06-01</td><td>3</td></tr><tr><td>&quot;WO0000004122741&quot;</td><td>&quot;Cerrado&quot;</td><td>2022-06-01</td><td>3</td></tr><tr><td>&hellip;</td><td>&hellip;</td><td>&hellip;</td><td>&hellip;</td></tr><tr><td>&quot;WO0000004848619&quot;</td><td>&quot;Cerrado&quot;</td><td>2022-12-31</td><td>3</td></tr><tr><td>&quot;WO0000004848666&quot;</td><td>&quot;Cerrado&quot;</td><td>2022-12-31</td><td>3</td></tr><tr><td>&quot;WO0000004848654&quot;</td><td>&quot;Cerrado&quot;</td><td>2022-12-31</td><td>3</td></tr><tr><td>&quot;WO0000004849355&quot;</td><td>&quot;Cerrado&quot;</td><td>2022-12-31</td><td>3</td></tr><tr><td>&quot;WO0000004848638&quot;</td><td>&quot;Cerrado&quot;</td><td>2022-12-31</td><td>3</td></tr></tbody></table></div>"
      ],
      "text/plain": [
       "shape: (9_206, 4)\n",
       "┌─────────────────┬─────────┬────────────────┬───────────────┐\n",
       "│ TicketID        ┆ Estado  ┆ Fecha Creacion ┆ Clasificacion │\n",
       "│ ---             ┆ ---     ┆ ---            ┆ ---           │\n",
       "│ str             ┆ str     ┆ date           ┆ i64           │\n",
       "╞═════════════════╪═════════╪════════════════╪═══════════════╡\n",
       "│ WO0000004122687 ┆ Cerrado ┆ 2022-06-01     ┆ 3             │\n",
       "│ WO0000004122649 ┆ Cerrado ┆ 2022-06-01     ┆ 3             │\n",
       "│ WO0000004122502 ┆ Cerrado ┆ 2022-06-01     ┆ 3             │\n",
       "│ WO0000004122513 ┆ Cerrado ┆ 2022-06-01     ┆ 3             │\n",
       "│ WO0000004122741 ┆ Cerrado ┆ 2022-06-01     ┆ 3             │\n",
       "│ …               ┆ …       ┆ …              ┆ …             │\n",
       "│ WO0000004848619 ┆ Cerrado ┆ 2022-12-31     ┆ 3             │\n",
       "│ WO0000004848666 ┆ Cerrado ┆ 2022-12-31     ┆ 3             │\n",
       "│ WO0000004848654 ┆ Cerrado ┆ 2022-12-31     ┆ 3             │\n",
       "│ WO0000004849355 ┆ Cerrado ┆ 2022-12-31     ┆ 3             │\n",
       "│ WO0000004848638 ┆ Cerrado ┆ 2022-12-31     ┆ 3             │\n",
       "└─────────────────┴─────────┴────────────────┴───────────────┘"
      ]
     },
     "execution_count": 8,
     "metadata": {},
     "output_type": "execute_result"
    }
   ],
   "source": [
    "df2.with_columns(\n",
    "    pl.col('Fecha Creacion').str.to_date('%d/%m/%Y')\n",
    ")\n"
   ]
  },
  {
   "cell_type": "markdown",
   "metadata": {},
   "source": [
    "###lectura de archivos con encabezados"
   ]
  },
  {
   "cell_type": "markdown",
   "metadata": {},
   "source": [
    "1. columns indica las columnas que quiero seleccionar"
   ]
  },
  {
   "cell_type": "code",
   "execution_count": 9,
   "metadata": {},
   "outputs": [],
   "source": [
    "historico=pl.read_csv(source='./Tickets/Tickets Historico.txt',separator=\";\",\n",
    "                      has_header=True,\n",
    "                      columns=['Numero Ticket','Ubicacion','Service Desk','Estado','Fecha Creacion','Fecha Termino','Fecha Cierre'],\n",
    "                      try_parse_dates=True ,  ##intenta parsear a fecha\n",
    "                      ignore_errors=True     ##pone null a  los errores\n",
    "                     )\n",
    "##renombrando la columna ticket\n",
    "historico=historico.rename({'Numero Ticket': 'TicketID'})"
   ]
  },
  {
   "cell_type": "code",
   "execution_count": 10,
   "metadata": {},
   "outputs": [
    {
     "data": {
      "text/html": [
       "<div><style>\n",
       ".dataframe > thead > tr,\n",
       ".dataframe > tbody > tr {\n",
       "  text-align: right;\n",
       "  white-space: pre-wrap;\n",
       "}\n",
       "</style>\n",
       "<small>shape: (5, 7)</small><table border=\"1\" class=\"dataframe\"><thead><tr><th>TicketID</th><th>Ubicacion</th><th>Service Desk</th><th>Estado</th><th>Fecha Creacion</th><th>Fecha Termino</th><th>Fecha Cierre</th></tr><tr><td>str</td><td>str</td><td>str</td><td>str</td><td>date</td><td>date</td><td>date</td></tr></thead><tbody><tr><td>&quot;WO0000004122687&quot;</td><td>&quot;AREQUIPA - 215000&quot;</td><td>&quot;Zona Norte&quot;</td><td>&quot;Cerrado&quot;</td><td>2022-06-01</td><td>2022-06-14</td><td>2022-06-14</td></tr><tr><td>&quot;WO0000004122649&quot;</td><td>&quot;METRO AV. WIESSE - 191106&quot;</td><td>&quot;Zona Centro&quot;</td><td>&quot;Cerrado&quot;</td><td>2022-06-01</td><td>2022-06-17</td><td>2022-06-17</td></tr><tr><td>&quot;WO0000004122502&quot;</td><td>&quot;NICOLAS AYLLON - 191027&quot;</td><td>&quot;Zona Centro&quot;</td><td>&quot;Cerrado&quot;</td><td>2022-06-01</td><td>2022-06-08</td><td>2022-06-08</td></tr><tr><td>&quot;WO0000004122513&quot;</td><td>&quot;JAUREGUI - 405005&quot;</td><td>&quot;Zona Norte&quot;</td><td>&quot;Cerrado&quot;</td><td>2022-06-01</td><td>2022-06-18</td><td>2022-06-18</td></tr><tr><td>&quot;WO0000004122741&quot;</td><td>&quot;CANTO GRANDE - 191096&quot;</td><td>&quot;Zona Centro&quot;</td><td>&quot;Cerrado&quot;</td><td>2022-06-01</td><td>2022-06-08</td><td>2022-06-08</td></tr></tbody></table></div>"
      ],
      "text/plain": [
       "shape: (5, 7)\n",
       "┌──────────────┬──────────────┬──────────────┬─────────┬──────────────┬──────────────┬─────────────┐\n",
       "│ TicketID     ┆ Ubicacion    ┆ Service Desk ┆ Estado  ┆ Fecha        ┆ Fecha        ┆ Fecha       │\n",
       "│ ---          ┆ ---          ┆ ---          ┆ ---     ┆ Creacion     ┆ Termino      ┆ Cierre      │\n",
       "│ str          ┆ str          ┆ str          ┆ str     ┆ ---          ┆ ---          ┆ ---         │\n",
       "│              ┆              ┆              ┆         ┆ date         ┆ date         ┆ date        │\n",
       "╞══════════════╪══════════════╪══════════════╪═════════╪══════════════╪══════════════╪═════════════╡\n",
       "│ WO0000004122 ┆ AREQUIPA -   ┆ Zona Norte   ┆ Cerrado ┆ 2022-06-01   ┆ 2022-06-14   ┆ 2022-06-14  │\n",
       "│ 687          ┆ 215000       ┆              ┆         ┆              ┆              ┆             │\n",
       "│ WO0000004122 ┆ METRO AV.    ┆ Zona Centro  ┆ Cerrado ┆ 2022-06-01   ┆ 2022-06-17   ┆ 2022-06-17  │\n",
       "│ 649          ┆ WIESSE -     ┆              ┆         ┆              ┆              ┆             │\n",
       "│              ┆ 191106       ┆              ┆         ┆              ┆              ┆             │\n",
       "│ WO0000004122 ┆ NICOLAS      ┆ Zona Centro  ┆ Cerrado ┆ 2022-06-01   ┆ 2022-06-08   ┆ 2022-06-08  │\n",
       "│ 502          ┆ AYLLON -     ┆              ┆         ┆              ┆              ┆             │\n",
       "│              ┆ 191027       ┆              ┆         ┆              ┆              ┆             │\n",
       "│ WO0000004122 ┆ JAUREGUI -   ┆ Zona Norte   ┆ Cerrado ┆ 2022-06-01   ┆ 2022-06-18   ┆ 2022-06-18  │\n",
       "│ 513          ┆ 405005       ┆              ┆         ┆              ┆              ┆             │\n",
       "│ WO0000004122 ┆ CANTO GRANDE ┆ Zona Centro  ┆ Cerrado ┆ 2022-06-01   ┆ 2022-06-08   ┆ 2022-06-08  │\n",
       "│ 741          ┆ - 191096     ┆              ┆         ┆              ┆              ┆             │\n",
       "└──────────────┴──────────────┴──────────────┴─────────┴──────────────┴──────────────┴─────────────┘"
      ]
     },
     "execution_count": 10,
     "metadata": {},
     "output_type": "execute_result"
    }
   ],
   "source": [
    "historico.head()"
   ]
  },
  {
   "cell_type": "markdown",
   "metadata": {},
   "source": [
    "#lectura tickets actuales"
   ]
  },
  {
   "cell_type": "code",
   "execution_count": 11,
   "metadata": {},
   "outputs": [
    {
     "data": {
      "text/html": [
       "<div><style>\n",
       ".dataframe > thead > tr,\n",
       ".dataframe > tbody > tr {\n",
       "  text-align: right;\n",
       "  white-space: pre-wrap;\n",
       "}\n",
       "</style>\n",
       "<small>shape: (5, 7)</small><table border=\"1\" class=\"dataframe\"><thead><tr><th>Numero Ticket</th><th>Ubicacion</th><th>Service Desk</th><th>Estado</th><th>Fecha Creacion</th><th>Fecha Termino</th><th>Fecha Cierre</th></tr><tr><td>str</td><td>str</td><td>str</td><td>str</td><td>str</td><td>str</td><td>str</td></tr></thead><tbody><tr><td>&quot;WO0000004853311&quot;</td><td>&quot;TUPAC AMARU - 191038&quot;</td><td>&quot;Zona Centro&quot;</td><td>&quot;Cerrado&quot;</td><td>&quot;2023-01-02&quot;</td><td>&quot;10/01/2023&quot;</td><td>&quot;13/01/2023&quot;</td></tr><tr><td>&quot;WO0000004852942&quot;</td><td>&quot;SAN JUAN DE LURIGANCHO - 191017&quot;</td><td>&quot;Zona Centro&quot;</td><td>&quot;Cerrado&quot;</td><td>&quot;2023-01-02&quot;</td><td>&quot;2/01/2023&quot;</td><td>&quot;5/01/2023&quot;</td></tr><tr><td>&quot;WO0000004852621&quot;</td><td>&quot;MARIANO MELGAR - 215014&quot;</td><td>&quot;Zona Norte&quot;</td><td>&quot;Cerrado&quot;</td><td>&quot;2023-01-02&quot;</td><td>&quot;6/01/2023&quot;</td><td>&quot;9/01/2023&quot;</td></tr><tr><td>&quot;SA0000004853328&quot;</td><td>&quot;ANDAHUAYLAS - 205000&quot;</td><td>&quot;Zona Norte&quot;</td><td>&quot;Cerrado&quot;</td><td>&quot;2023-01-02&quot;</td><td>&quot;7/01/2023&quot;</td><td>&quot;10/01/2023&quot;</td></tr><tr><td>&quot;SA0000004853160&quot;</td><td>&quot;COLLIQUE - 191065&quot;</td><td>&quot;Zona Centro&quot;</td><td>&quot;Cerrado&quot;</td><td>&quot;2023-01-02&quot;</td><td>&quot;4/01/2023&quot;</td><td>&quot;7/01/2023&quot;</td></tr></tbody></table></div>"
      ],
      "text/plain": [
       "shape: (5, 7)\n",
       "┌──────────────┬──────────────┬──────────────┬─────────┬──────────────┬──────────────┬─────────────┐\n",
       "│ Numero       ┆ Ubicacion    ┆ Service Desk ┆ Estado  ┆ Fecha        ┆ Fecha        ┆ Fecha       │\n",
       "│ Ticket       ┆ ---          ┆ ---          ┆ ---     ┆ Creacion     ┆ Termino      ┆ Cierre      │\n",
       "│ ---          ┆ str          ┆ str          ┆ str     ┆ ---          ┆ ---          ┆ ---         │\n",
       "│ str          ┆              ┆              ┆         ┆ str          ┆ str          ┆ str         │\n",
       "╞══════════════╪══════════════╪══════════════╪═════════╪══════════════╪══════════════╪═════════════╡\n",
       "│ WO0000004853 ┆ TUPAC AMARU  ┆ Zona Centro  ┆ Cerrado ┆ 2023-01-02   ┆ 10/01/2023   ┆ 13/01/2023  │\n",
       "│ 311          ┆ - 191038     ┆              ┆         ┆              ┆              ┆             │\n",
       "│ WO0000004852 ┆ SAN JUAN DE  ┆ Zona Centro  ┆ Cerrado ┆ 2023-01-02   ┆ 2/01/2023    ┆ 5/01/2023   │\n",
       "│ 942          ┆ LURIGANCHO - ┆              ┆         ┆              ┆              ┆             │\n",
       "│              ┆ 191017       ┆              ┆         ┆              ┆              ┆             │\n",
       "│ WO0000004852 ┆ MARIANO      ┆ Zona Norte   ┆ Cerrado ┆ 2023-01-02   ┆ 6/01/2023    ┆ 9/01/2023   │\n",
       "│ 621          ┆ MELGAR -     ┆              ┆         ┆              ┆              ┆             │\n",
       "│              ┆ 215014       ┆              ┆         ┆              ┆              ┆             │\n",
       "│ SA0000004853 ┆ ANDAHUAYLAS  ┆ Zona Norte   ┆ Cerrado ┆ 2023-01-02   ┆ 7/01/2023    ┆ 10/01/2023  │\n",
       "│ 328          ┆ - 205000     ┆              ┆         ┆              ┆              ┆             │\n",
       "│ SA0000004853 ┆ COLLIQUE -   ┆ Zona Centro  ┆ Cerrado ┆ 2023-01-02   ┆ 4/01/2023    ┆ 7/01/2023   │\n",
       "│ 160          ┆ 191065       ┆              ┆         ┆              ┆              ┆             │\n",
       "└──────────────┴──────────────┴──────────────┴─────────┴──────────────┴──────────────┴─────────────┘"
      ]
     },
     "execution_count": 11,
     "metadata": {},
     "output_type": "execute_result"
    }
   ],
   "source": [
    "actual= pl.read_csv(source='./Tickets/Tickets Actual.csv',separator=\"|\",\n",
    "                    columns=['Numero Ticket','Ubicacion','Service Desk','Estado','Fecha Creacion','Fecha Termino','Fecha Cierre'],\n",
    "             \n",
    "                   )\n",
    "actual.head( )"
   ]
  },
  {
   "cell_type": "code",
   "execution_count": 12,
   "metadata": {},
   "outputs": [
    {
     "data": {
      "text/html": [
       "<div><style>\n",
       ".dataframe > thead > tr,\n",
       ".dataframe > tbody > tr {\n",
       "  text-align: right;\n",
       "  white-space: pre-wrap;\n",
       "}\n",
       "</style>\n",
       "<small>shape: (5, 7)</small><table border=\"1\" class=\"dataframe\"><thead><tr><th>TicketID</th><th>Ubicacion</th><th>Service Desk</th><th>Estado</th><th>Fecha Creacion</th><th>Fecha Termino</th><th>Fecha Cierre</th></tr><tr><td>str</td><td>str</td><td>str</td><td>str</td><td>date</td><td>date</td><td>date</td></tr></thead><tbody><tr><td>&quot;WO0000004853311&quot;</td><td>&quot;TUPAC AMARU - 191038&quot;</td><td>&quot;Zona Centro&quot;</td><td>&quot;Cerrado&quot;</td><td>2023-01-02</td><td>2023-01-10</td><td>2023-01-13</td></tr><tr><td>&quot;WO0000004852942&quot;</td><td>&quot;SAN JUAN DE LURIGANCHO - 191017&quot;</td><td>&quot;Zona Centro&quot;</td><td>&quot;Cerrado&quot;</td><td>2023-01-02</td><td>2023-01-02</td><td>2023-01-05</td></tr><tr><td>&quot;WO0000004852621&quot;</td><td>&quot;MARIANO MELGAR - 215014&quot;</td><td>&quot;Zona Norte&quot;</td><td>&quot;Cerrado&quot;</td><td>2023-01-02</td><td>2023-01-06</td><td>2023-01-09</td></tr><tr><td>&quot;SA0000004853328&quot;</td><td>&quot;ANDAHUAYLAS - 205000&quot;</td><td>&quot;Zona Norte&quot;</td><td>&quot;Cerrado&quot;</td><td>2023-01-02</td><td>2023-01-07</td><td>2023-01-10</td></tr><tr><td>&quot;SA0000004853160&quot;</td><td>&quot;COLLIQUE - 191065&quot;</td><td>&quot;Zona Centro&quot;</td><td>&quot;Cerrado&quot;</td><td>2023-01-02</td><td>2023-01-04</td><td>2023-01-07</td></tr></tbody></table></div>"
      ],
      "text/plain": [
       "shape: (5, 7)\n",
       "┌──────────────┬──────────────┬──────────────┬─────────┬──────────────┬──────────────┬─────────────┐\n",
       "│ TicketID     ┆ Ubicacion    ┆ Service Desk ┆ Estado  ┆ Fecha        ┆ Fecha        ┆ Fecha       │\n",
       "│ ---          ┆ ---          ┆ ---          ┆ ---     ┆ Creacion     ┆ Termino      ┆ Cierre      │\n",
       "│ str          ┆ str          ┆ str          ┆ str     ┆ ---          ┆ ---          ┆ ---         │\n",
       "│              ┆              ┆              ┆         ┆ date         ┆ date         ┆ date        │\n",
       "╞══════════════╪══════════════╪══════════════╪═════════╪══════════════╪══════════════╪═════════════╡\n",
       "│ WO0000004853 ┆ TUPAC AMARU  ┆ Zona Centro  ┆ Cerrado ┆ 2023-01-02   ┆ 2023-01-10   ┆ 2023-01-13  │\n",
       "│ 311          ┆ - 191038     ┆              ┆         ┆              ┆              ┆             │\n",
       "│ WO0000004852 ┆ SAN JUAN DE  ┆ Zona Centro  ┆ Cerrado ┆ 2023-01-02   ┆ 2023-01-02   ┆ 2023-01-05  │\n",
       "│ 942          ┆ LURIGANCHO - ┆              ┆         ┆              ┆              ┆             │\n",
       "│              ┆ 191017       ┆              ┆         ┆              ┆              ┆             │\n",
       "│ WO0000004852 ┆ MARIANO      ┆ Zona Norte   ┆ Cerrado ┆ 2023-01-02   ┆ 2023-01-06   ┆ 2023-01-09  │\n",
       "│ 621          ┆ MELGAR -     ┆              ┆         ┆              ┆              ┆             │\n",
       "│              ┆ 215014       ┆              ┆         ┆              ┆              ┆             │\n",
       "│ SA0000004853 ┆ ANDAHUAYLAS  ┆ Zona Norte   ┆ Cerrado ┆ 2023-01-02   ┆ 2023-01-07   ┆ 2023-01-10  │\n",
       "│ 328          ┆ - 205000     ┆              ┆         ┆              ┆              ┆             │\n",
       "│ SA0000004853 ┆ COLLIQUE -   ┆ Zona Centro  ┆ Cerrado ┆ 2023-01-02   ┆ 2023-01-04   ┆ 2023-01-07  │\n",
       "│ 160          ┆ 191065       ┆              ┆         ┆              ┆              ┆             │\n",
       "└──────────────┴──────────────┴──────────────┴─────────┴──────────────┴──────────────┴─────────────┘"
      ]
     },
     "execution_count": 12,
     "metadata": {},
     "output_type": "execute_result"
    }
   ],
   "source": [
    "actual=actual.select(\n",
    "    pl.col('Numero Ticket').alias('TicketID'),\n",
    "    pl.col(['Ubicacion','Service Desk','Estado']),\n",
    "    pl.col('Fecha Creacion').str.to_date('%Y-%m-%d'),\n",
    "    pl.col('Fecha Termino').str.to_date('%d/%m/%Y'),\n",
    "    pl.col('Fecha Cierre').str.to_date('%d/%m/%Y')\n",
    ")\n",
    "actual.head()"
   ]
  },
  {
   "cell_type": "code",
   "execution_count": 13,
   "metadata": {},
   "outputs": [
    {
     "data": {
      "text/html": [
       "<div><style>\n",
       ".dataframe > thead > tr,\n",
       ".dataframe > tbody > tr {\n",
       "  text-align: right;\n",
       "  white-space: pre-wrap;\n",
       "}\n",
       "</style>\n",
       "<small>shape: (100, 7)</small><table border=\"1\" class=\"dataframe\"><thead><tr><th>TicketID</th><th>Ubicacion</th><th>Service Desk</th><th>Estado</th><th>Fecha Creacion</th><th>Fecha Termino</th><th>Fecha Cierre</th></tr><tr><td>str</td><td>str</td><td>str</td><td>str</td><td>date</td><td>date</td><td>date</td></tr></thead><tbody><tr><td>&quot;WO0000005734169&quot;</td><td>&quot;VITARTE - 191043&quot;</td><td>&quot;Zona Sur&quot;</td><td>&quot;En curso&quot;</td><td>2023-10-28</td><td>null</td><td>null</td></tr><tr><td>&quot;WO0000005734903&quot;</td><td>&quot;CAILLOMA - 191098&quot;</td><td>&quot;Zona Sur&quot;</td><td>&quot;En curso&quot;</td><td>2023-10-28</td><td>null</td><td>null</td></tr><tr><td>&quot;WO0000005736035&quot;</td><td>&quot;JULIACA - 405000&quot;</td><td>&quot;Zona Norte&quot;</td><td>&quot;En curso&quot;</td><td>2023-10-28</td><td>null</td><td>null</td></tr><tr><td>&quot;WO0000005735617&quot;</td><td>&quot;SICUANI - 533000&quot;</td><td>&quot;Zona Norte&quot;</td><td>&quot;En curso&quot;</td><td>2023-10-28</td><td>null</td><td>null</td></tr><tr><td>&quot;WO0000005735605&quot;</td><td>&quot;SICUANI - 533000&quot;</td><td>&quot;Zona Norte&quot;</td><td>&quot;En curso&quot;</td><td>2023-10-28</td><td>null</td><td>null</td></tr><tr><td>&hellip;</td><td>&hellip;</td><td>&hellip;</td><td>&hellip;</td><td>&hellip;</td><td>&hellip;</td><td>&hellip;</td></tr><tr><td>&quot;WO0000005737139&quot;</td><td>&quot;CANTO GRANDE - 191096&quot;</td><td>&quot;Zona Centro&quot;</td><td>&quot;En curso&quot;</td><td>2023-10-29</td><td>null</td><td>null</td></tr><tr><td>&quot;WO0000005736853&quot;</td><td>&quot;NARANJAL - 191141&quot;</td><td>&quot;Zona Centro&quot;</td><td>&quot;En curso&quot;</td><td>2023-10-29</td><td>null</td><td>null</td></tr><tr><td>&quot;WO0000005736847&quot;</td><td>&quot;NARANJAL - 191141&quot;</td><td>&quot;Zona Centro&quot;</td><td>&quot;En curso&quot;</td><td>2023-10-29</td><td>null</td><td>null</td></tr><tr><td>&quot;WO0000005736845&quot;</td><td>&quot;NARANJAL - 191141&quot;</td><td>&quot;Zona Centro&quot;</td><td>&quot;En curso&quot;</td><td>2023-10-29</td><td>null</td><td>null</td></tr><tr><td>&quot;WO0000005736387&quot;</td><td>&quot;TARAPACA - 191030&quot;</td><td>&quot;Zona Centro&quot;</td><td>&quot;En curso&quot;</td><td>2023-10-29</td><td>null</td><td>null</td></tr></tbody></table></div>"
      ],
      "text/plain": [
       "shape: (100, 7)\n",
       "┌───────────────┬───────────────┬───────────────┬──────────┬──────────────┬─────────┬──────────────┐\n",
       "│ TicketID      ┆ Ubicacion     ┆ Service Desk  ┆ Estado   ┆ Fecha        ┆ Fecha   ┆ Fecha Cierre │\n",
       "│ ---           ┆ ---           ┆ ---           ┆ ---      ┆ Creacion     ┆ Termino ┆ ---          │\n",
       "│ str           ┆ str           ┆ str           ┆ str      ┆ ---          ┆ ---     ┆ date         │\n",
       "│               ┆               ┆               ┆          ┆ date         ┆ date    ┆              │\n",
       "╞═══════════════╪═══════════════╪═══════════════╪══════════╪══════════════╪═════════╪══════════════╡\n",
       "│ WO00000057341 ┆ VITARTE -     ┆ Zona Sur      ┆ En curso ┆ 2023-10-28   ┆ null    ┆ null         │\n",
       "│ 69            ┆ 191043        ┆               ┆          ┆              ┆         ┆              │\n",
       "│ WO00000057349 ┆ CAILLOMA -    ┆ Zona Sur      ┆ En curso ┆ 2023-10-28   ┆ null    ┆ null         │\n",
       "│ 03            ┆ 191098        ┆               ┆          ┆              ┆         ┆              │\n",
       "│ WO00000057360 ┆ JULIACA -     ┆ Zona Norte    ┆ En curso ┆ 2023-10-28   ┆ null    ┆ null         │\n",
       "│ 35            ┆ 405000        ┆               ┆          ┆              ┆         ┆              │\n",
       "│ WO00000057356 ┆ SICUANI -     ┆ Zona Norte    ┆ En curso ┆ 2023-10-28   ┆ null    ┆ null         │\n",
       "│ 17            ┆ 533000        ┆               ┆          ┆              ┆         ┆              │\n",
       "│ WO00000057356 ┆ SICUANI -     ┆ Zona Norte    ┆ En curso ┆ 2023-10-28   ┆ null    ┆ null         │\n",
       "│ 05            ┆ 533000        ┆               ┆          ┆              ┆         ┆              │\n",
       "│ …             ┆ …             ┆ …             ┆ …        ┆ …            ┆ …       ┆ …            │\n",
       "│ WO00000057371 ┆ CANTO GRANDE  ┆ Zona Centro   ┆ En curso ┆ 2023-10-29   ┆ null    ┆ null         │\n",
       "│ 39            ┆ - 191096      ┆               ┆          ┆              ┆         ┆              │\n",
       "│ WO00000057368 ┆ NARANJAL -    ┆ Zona Centro   ┆ En curso ┆ 2023-10-29   ┆ null    ┆ null         │\n",
       "│ 53            ┆ 191141        ┆               ┆          ┆              ┆         ┆              │\n",
       "│ WO00000057368 ┆ NARANJAL -    ┆ Zona Centro   ┆ En curso ┆ 2023-10-29   ┆ null    ┆ null         │\n",
       "│ 47            ┆ 191141        ┆               ┆          ┆              ┆         ┆              │\n",
       "│ WO00000057368 ┆ NARANJAL -    ┆ Zona Centro   ┆ En curso ┆ 2023-10-29   ┆ null    ┆ null         │\n",
       "│ 45            ┆ 191141        ┆               ┆          ┆              ┆         ┆              │\n",
       "│ WO00000057363 ┆ TARAPACA -    ┆ Zona Centro   ┆ En curso ┆ 2023-10-29   ┆ null    ┆ null         │\n",
       "│ 87            ┆ 191030        ┆               ┆          ┆              ┆         ┆              │\n",
       "└───────────────┴───────────────┴───────────────┴──────────┴──────────────┴─────────┴──────────────┘"
      ]
     },
     "execution_count": 13,
     "metadata": {},
     "output_type": "execute_result"
    }
   ],
   "source": [
    "actual.tail(100)"
   ]
  },
  {
   "cell_type": "markdown",
   "metadata": {},
   "source": [
    "$UNIENDO LOS DATAFRAMES DE TICKETS :HISTORICO Y ACTUAL"
   ]
  },
  {
   "cell_type": "code",
   "execution_count": 14,
   "metadata": {},
   "outputs": [
    {
     "data": {
      "text/html": [
       "<div><style>\n",
       ".dataframe > thead > tr,\n",
       ".dataframe > tbody > tr {\n",
       "  text-align: right;\n",
       "  white-space: pre-wrap;\n",
       "}\n",
       "</style>\n",
       "<small>shape: (5, 7)</small><table border=\"1\" class=\"dataframe\"><thead><tr><th>TicketID</th><th>Ubicacion</th><th>Service Desk</th><th>Estado</th><th>Fecha Creacion</th><th>Fecha Termino</th><th>Fecha Cierre</th></tr><tr><td>str</td><td>str</td><td>str</td><td>str</td><td>date</td><td>date</td><td>date</td></tr></thead><tbody><tr><td>&quot;WO0000004122687&quot;</td><td>&quot;AREQUIPA - 215000&quot;</td><td>&quot;Zona Norte&quot;</td><td>&quot;Cerrado&quot;</td><td>2022-06-01</td><td>2022-06-14</td><td>2022-06-14</td></tr><tr><td>&quot;WO0000004122649&quot;</td><td>&quot;METRO AV. WIESSE - 191106&quot;</td><td>&quot;Zona Centro&quot;</td><td>&quot;Cerrado&quot;</td><td>2022-06-01</td><td>2022-06-17</td><td>2022-06-17</td></tr><tr><td>&quot;WO0000004122502&quot;</td><td>&quot;NICOLAS AYLLON - 191027&quot;</td><td>&quot;Zona Centro&quot;</td><td>&quot;Cerrado&quot;</td><td>2022-06-01</td><td>2022-06-08</td><td>2022-06-08</td></tr><tr><td>&quot;WO0000004122513&quot;</td><td>&quot;JAUREGUI - 405005&quot;</td><td>&quot;Zona Norte&quot;</td><td>&quot;Cerrado&quot;</td><td>2022-06-01</td><td>2022-06-18</td><td>2022-06-18</td></tr><tr><td>&quot;WO0000004122741&quot;</td><td>&quot;CANTO GRANDE - 191096&quot;</td><td>&quot;Zona Centro&quot;</td><td>&quot;Cerrado&quot;</td><td>2022-06-01</td><td>2022-06-08</td><td>2022-06-08</td></tr></tbody></table></div>"
      ],
      "text/plain": [
       "shape: (5, 7)\n",
       "┌──────────────┬──────────────┬──────────────┬─────────┬──────────────┬──────────────┬─────────────┐\n",
       "│ TicketID     ┆ Ubicacion    ┆ Service Desk ┆ Estado  ┆ Fecha        ┆ Fecha        ┆ Fecha       │\n",
       "│ ---          ┆ ---          ┆ ---          ┆ ---     ┆ Creacion     ┆ Termino      ┆ Cierre      │\n",
       "│ str          ┆ str          ┆ str          ┆ str     ┆ ---          ┆ ---          ┆ ---         │\n",
       "│              ┆              ┆              ┆         ┆ date         ┆ date         ┆ date        │\n",
       "╞══════════════╪══════════════╪══════════════╪═════════╪══════════════╪══════════════╪═════════════╡\n",
       "│ WO0000004122 ┆ AREQUIPA -   ┆ Zona Norte   ┆ Cerrado ┆ 2022-06-01   ┆ 2022-06-14   ┆ 2022-06-14  │\n",
       "│ 687          ┆ 215000       ┆              ┆         ┆              ┆              ┆             │\n",
       "│ WO0000004122 ┆ METRO AV.    ┆ Zona Centro  ┆ Cerrado ┆ 2022-06-01   ┆ 2022-06-17   ┆ 2022-06-17  │\n",
       "│ 649          ┆ WIESSE -     ┆              ┆         ┆              ┆              ┆             │\n",
       "│              ┆ 191106       ┆              ┆         ┆              ┆              ┆             │\n",
       "│ WO0000004122 ┆ NICOLAS      ┆ Zona Centro  ┆ Cerrado ┆ 2022-06-01   ┆ 2022-06-08   ┆ 2022-06-08  │\n",
       "│ 502          ┆ AYLLON -     ┆              ┆         ┆              ┆              ┆             │\n",
       "│              ┆ 191027       ┆              ┆         ┆              ┆              ┆             │\n",
       "│ WO0000004122 ┆ JAUREGUI -   ┆ Zona Norte   ┆ Cerrado ┆ 2022-06-01   ┆ 2022-06-18   ┆ 2022-06-18  │\n",
       "│ 513          ┆ 405005       ┆              ┆         ┆              ┆              ┆             │\n",
       "│ WO0000004122 ┆ CANTO GRANDE ┆ Zona Centro  ┆ Cerrado ┆ 2022-06-01   ┆ 2022-06-08   ┆ 2022-06-08  │\n",
       "│ 741          ┆ - 191096     ┆              ┆         ┆              ┆              ┆             │\n",
       "└──────────────┴──────────────┴──────────────┴─────────┴──────────────┴──────────────┴─────────────┘"
      ]
     },
     "execution_count": 14,
     "metadata": {},
     "output_type": "execute_result"
    }
   ],
   "source": [
    "tickets=pl.concat([historico,actual],how=\"vertical\")\n",
    "tickets.head()"
   ]
  },
  {
   "cell_type": "markdown",
   "metadata": {},
   "source": [
    "2. eliminar aquellos tickets que no empiecen con WO"
   ]
  },
  {
   "cell_type": "code",
   "execution_count": 15,
   "metadata": {},
   "outputs": [
    {
     "data": {
      "text/html": [
       "<div><style>\n",
       ".dataframe > thead > tr,\n",
       ".dataframe > tbody > tr {\n",
       "  text-align: right;\n",
       "  white-space: pre-wrap;\n",
       "}\n",
       "</style>\n",
       "<small>shape: (5, 7)</small><table border=\"1\" class=\"dataframe\"><thead><tr><th>TicketID</th><th>Ubicacion</th><th>Service Desk</th><th>Estado</th><th>Fecha Creacion</th><th>Fecha Termino</th><th>Fecha Cierre</th></tr><tr><td>str</td><td>str</td><td>str</td><td>str</td><td>date</td><td>date</td><td>date</td></tr></thead><tbody><tr><td>&quot;WO0000004122687&quot;</td><td>&quot;AREQUIPA - 215000&quot;</td><td>&quot;Zona Norte&quot;</td><td>&quot;Cerrado&quot;</td><td>2022-06-01</td><td>2022-06-14</td><td>2022-06-14</td></tr><tr><td>&quot;WO0000004122649&quot;</td><td>&quot;METRO AV. WIESSE - 191106&quot;</td><td>&quot;Zona Centro&quot;</td><td>&quot;Cerrado&quot;</td><td>2022-06-01</td><td>2022-06-17</td><td>2022-06-17</td></tr><tr><td>&quot;WO0000004122502&quot;</td><td>&quot;NICOLAS AYLLON - 191027&quot;</td><td>&quot;Zona Centro&quot;</td><td>&quot;Cerrado&quot;</td><td>2022-06-01</td><td>2022-06-08</td><td>2022-06-08</td></tr><tr><td>&quot;WO0000004122513&quot;</td><td>&quot;JAUREGUI - 405005&quot;</td><td>&quot;Zona Norte&quot;</td><td>&quot;Cerrado&quot;</td><td>2022-06-01</td><td>2022-06-18</td><td>2022-06-18</td></tr><tr><td>&quot;WO0000004122741&quot;</td><td>&quot;CANTO GRANDE - 191096&quot;</td><td>&quot;Zona Centro&quot;</td><td>&quot;Cerrado&quot;</td><td>2022-06-01</td><td>2022-06-08</td><td>2022-06-08</td></tr></tbody></table></div>"
      ],
      "text/plain": [
       "shape: (5, 7)\n",
       "┌──────────────┬──────────────┬──────────────┬─────────┬──────────────┬──────────────┬─────────────┐\n",
       "│ TicketID     ┆ Ubicacion    ┆ Service Desk ┆ Estado  ┆ Fecha        ┆ Fecha        ┆ Fecha       │\n",
       "│ ---          ┆ ---          ┆ ---          ┆ ---     ┆ Creacion     ┆ Termino      ┆ Cierre      │\n",
       "│ str          ┆ str          ┆ str          ┆ str     ┆ ---          ┆ ---          ┆ ---         │\n",
       "│              ┆              ┆              ┆         ┆ date         ┆ date         ┆ date        │\n",
       "╞══════════════╪══════════════╪══════════════╪═════════╪══════════════╪══════════════╪═════════════╡\n",
       "│ WO0000004122 ┆ AREQUIPA -   ┆ Zona Norte   ┆ Cerrado ┆ 2022-06-01   ┆ 2022-06-14   ┆ 2022-06-14  │\n",
       "│ 687          ┆ 215000       ┆              ┆         ┆              ┆              ┆             │\n",
       "│ WO0000004122 ┆ METRO AV.    ┆ Zona Centro  ┆ Cerrado ┆ 2022-06-01   ┆ 2022-06-17   ┆ 2022-06-17  │\n",
       "│ 649          ┆ WIESSE -     ┆              ┆         ┆              ┆              ┆             │\n",
       "│              ┆ 191106       ┆              ┆         ┆              ┆              ┆             │\n",
       "│ WO0000004122 ┆ NICOLAS      ┆ Zona Centro  ┆ Cerrado ┆ 2022-06-01   ┆ 2022-06-08   ┆ 2022-06-08  │\n",
       "│ 502          ┆ AYLLON -     ┆              ┆         ┆              ┆              ┆             │\n",
       "│              ┆ 191027       ┆              ┆         ┆              ┆              ┆             │\n",
       "│ WO0000004122 ┆ JAUREGUI -   ┆ Zona Norte   ┆ Cerrado ┆ 2022-06-01   ┆ 2022-06-18   ┆ 2022-06-18  │\n",
       "│ 513          ┆ 405005       ┆              ┆         ┆              ┆              ┆             │\n",
       "│ WO0000004122 ┆ CANTO GRANDE ┆ Zona Centro  ┆ Cerrado ┆ 2022-06-01   ┆ 2022-06-08   ┆ 2022-06-08  │\n",
       "│ 741          ┆ - 191096     ┆              ┆         ┆              ┆              ┆             │\n",
       "└──────────────┴──────────────┴──────────────┴─────────┴──────────────┴──────────────┴─────────────┘"
      ]
     },
     "execution_count": 15,
     "metadata": {},
     "output_type": "execute_result"
    }
   ],
   "source": [
    "tickets=tickets.filter(\n",
    "    pl.col('TicketID').str.starts_with('WO')  ##PARA NEGAR 126 ~\n",
    ")\n",
    "tickets.head()"
   ]
  },
  {
   "cell_type": "code",
   "execution_count": 16,
   "metadata": {},
   "outputs": [
    {
     "data": {
      "text/plain": [
       "(22223, 7)"
      ]
     },
     "execution_count": 16,
     "metadata": {},
     "output_type": "execute_result"
    }
   ],
   "source": [
    "tickets.shape"
   ]
  },
  {
   "cell_type": "code",
   "execution_count": 17,
   "metadata": {},
   "outputs": [
    {
     "data": {
      "text/plain": [
       "(22210, 7)"
      ]
     },
     "execution_count": 17,
     "metadata": {},
     "output_type": "execute_result"
    }
   ],
   "source": [
    "tickets.unique().shape"
   ]
  },
  {
   "cell_type": "code",
   "execution_count": 18,
   "metadata": {},
   "outputs": [
    {
     "data": {
      "text/html": [
       "<div><style>\n",
       ".dataframe > thead > tr,\n",
       ".dataframe > tbody > tr {\n",
       "  text-align: right;\n",
       "  white-space: pre-wrap;\n",
       "}\n",
       "</style>\n",
       "<small>shape: (26, 7)</small><table border=\"1\" class=\"dataframe\"><thead><tr><th>TicketID</th><th>Ubicacion</th><th>Service Desk</th><th>Estado</th><th>Fecha Creacion</th><th>Fecha Termino</th><th>Fecha Cierre</th></tr><tr><td>str</td><td>str</td><td>str</td><td>str</td><td>date</td><td>date</td><td>date</td></tr></thead><tbody><tr><td>&quot;WO0000004848619&quot;</td><td>&quot;ILO - 385000&quot;</td><td>&quot;Zona Norte&quot;</td><td>&quot;Cerrado&quot;</td><td>2022-12-31</td><td>2023-01-09</td><td>2023-01-12</td></tr><tr><td>&quot;WO0000004848619&quot;</td><td>&quot;ILO - 385000&quot;</td><td>&quot;Zona Norte&quot;</td><td>&quot;Cerrado&quot;</td><td>2022-12-31</td><td>2023-01-09</td><td>2023-01-12</td></tr><tr><td>&quot;WO0000004848638&quot;</td><td>&quot;VILLA SOL - 191059&quot;</td><td>&quot;Zona Centro&quot;</td><td>&quot;Cerrado&quot;</td><td>2022-12-31</td><td>2022-12-31</td><td>2023-01-03</td></tr><tr><td>&quot;WO0000004848638&quot;</td><td>&quot;VILLA SOL - 191059&quot;</td><td>&quot;Zona Centro&quot;</td><td>&quot;Cerrado&quot;</td><td>2022-12-31</td><td>2022-12-31</td><td>2023-01-03</td></tr><tr><td>&quot;WO0000004848654&quot;</td><td>&quot;MERCADO DE FRUTAS - 191064&quot;</td><td>&quot;Zona Centro&quot;</td><td>&quot;Cerrado&quot;</td><td>2022-12-31</td><td>2023-01-13</td><td>2023-01-16</td></tr><tr><td>&hellip;</td><td>&hellip;</td><td>&hellip;</td><td>&hellip;</td><td>&hellip;</td><td>&hellip;</td><td>&hellip;</td></tr><tr><td>&quot;WO0000004849721&quot;</td><td>&quot;LUREN - 380004&quot;</td><td>&quot;Zona Sur&quot;</td><td>&quot;Cerrado&quot;</td><td>2022-12-31</td><td>2023-01-02</td><td>2023-01-05</td></tr><tr><td>&quot;WO0000004849726&quot;</td><td>&quot;LUREN - 380004&quot;</td><td>&quot;Zona Sur&quot;</td><td>&quot;Cerrado&quot;</td><td>2022-12-31</td><td>2023-01-02</td><td>2023-01-05</td></tr><tr><td>&quot;WO0000004849726&quot;</td><td>&quot;LUREN - 380004&quot;</td><td>&quot;Zona Sur&quot;</td><td>&quot;Cerrado&quot;</td><td>2022-12-31</td><td>2023-01-02</td><td>2023-01-05</td></tr><tr><td>&quot;WO0000004849732&quot;</td><td>&quot;EL PINO - 191087&quot;</td><td>&quot;Zona Centro&quot;</td><td>&quot;Cerrado&quot;</td><td>2022-12-31</td><td>2023-01-06</td><td>2023-01-09</td></tr><tr><td>&quot;WO0000004849732&quot;</td><td>&quot;EL PINO - 191087&quot;</td><td>&quot;Zona Centro&quot;</td><td>&quot;Cerrado&quot;</td><td>2022-12-31</td><td>2023-01-06</td><td>2023-01-09</td></tr></tbody></table></div>"
      ],
      "text/plain": [
       "shape: (26, 7)\n",
       "┌──────────────┬──────────────┬──────────────┬─────────┬──────────────┬──────────────┬─────────────┐\n",
       "│ TicketID     ┆ Ubicacion    ┆ Service Desk ┆ Estado  ┆ Fecha        ┆ Fecha        ┆ Fecha       │\n",
       "│ ---          ┆ ---          ┆ ---          ┆ ---     ┆ Creacion     ┆ Termino      ┆ Cierre      │\n",
       "│ str          ┆ str          ┆ str          ┆ str     ┆ ---          ┆ ---          ┆ ---         │\n",
       "│              ┆              ┆              ┆         ┆ date         ┆ date         ┆ date        │\n",
       "╞══════════════╪══════════════╪══════════════╪═════════╪══════════════╪══════════════╪═════════════╡\n",
       "│ WO0000004848 ┆ ILO - 385000 ┆ Zona Norte   ┆ Cerrado ┆ 2022-12-31   ┆ 2023-01-09   ┆ 2023-01-12  │\n",
       "│ 619          ┆              ┆              ┆         ┆              ┆              ┆             │\n",
       "│ WO0000004848 ┆ ILO - 385000 ┆ Zona Norte   ┆ Cerrado ┆ 2022-12-31   ┆ 2023-01-09   ┆ 2023-01-12  │\n",
       "│ 619          ┆              ┆              ┆         ┆              ┆              ┆             │\n",
       "│ WO0000004848 ┆ VILLA SOL -  ┆ Zona Centro  ┆ Cerrado ┆ 2022-12-31   ┆ 2022-12-31   ┆ 2023-01-03  │\n",
       "│ 638          ┆ 191059       ┆              ┆         ┆              ┆              ┆             │\n",
       "│ WO0000004848 ┆ VILLA SOL -  ┆ Zona Centro  ┆ Cerrado ┆ 2022-12-31   ┆ 2022-12-31   ┆ 2023-01-03  │\n",
       "│ 638          ┆ 191059       ┆              ┆         ┆              ┆              ┆             │\n",
       "│ WO0000004848 ┆ MERCADO DE   ┆ Zona Centro  ┆ Cerrado ┆ 2022-12-31   ┆ 2023-01-13   ┆ 2023-01-16  │\n",
       "│ 654          ┆ FRUTAS -     ┆              ┆         ┆              ┆              ┆             │\n",
       "│              ┆ 191064       ┆              ┆         ┆              ┆              ┆             │\n",
       "│ …            ┆ …            ┆ …            ┆ …       ┆ …            ┆ …            ┆ …           │\n",
       "│ WO0000004849 ┆ LUREN -      ┆ Zona Sur     ┆ Cerrado ┆ 2022-12-31   ┆ 2023-01-02   ┆ 2023-01-05  │\n",
       "│ 721          ┆ 380004       ┆              ┆         ┆              ┆              ┆             │\n",
       "│ WO0000004849 ┆ LUREN -      ┆ Zona Sur     ┆ Cerrado ┆ 2022-12-31   ┆ 2023-01-02   ┆ 2023-01-05  │\n",
       "│ 726          ┆ 380004       ┆              ┆         ┆              ┆              ┆             │\n",
       "│ WO0000004849 ┆ LUREN -      ┆ Zona Sur     ┆ Cerrado ┆ 2022-12-31   ┆ 2023-01-02   ┆ 2023-01-05  │\n",
       "│ 726          ┆ 380004       ┆              ┆         ┆              ┆              ┆             │\n",
       "│ WO0000004849 ┆ EL PINO -    ┆ Zona Centro  ┆ Cerrado ┆ 2022-12-31   ┆ 2023-01-06   ┆ 2023-01-09  │\n",
       "│ 732          ┆ 191087       ┆              ┆         ┆              ┆              ┆             │\n",
       "│ WO0000004849 ┆ EL PINO -    ┆ Zona Centro  ┆ Cerrado ┆ 2022-12-31   ┆ 2023-01-06   ┆ 2023-01-09  │\n",
       "│ 732          ┆ 191087       ┆              ┆         ┆              ┆              ┆             │\n",
       "└──────────────┴──────────────┴──────────────┴─────────┴──────────────┴──────────────┴─────────────┘"
      ]
     },
     "execution_count": 18,
     "metadata": {},
     "output_type": "execute_result"
    }
   ],
   "source": [
    "#para saber que valores repetidos existe\n",
    "tickets.filter(\n",
    "    pl.col('TicketID').is_duplicated()\n",
    ").sort(by='TicketID')"
   ]
  },
  {
   "cell_type": "code",
   "execution_count": 19,
   "metadata": {},
   "outputs": [
    {
     "data": {
      "text/plain": [
       "(22210, 7)"
      ]
     },
     "execution_count": 19,
     "metadata": {},
     "output_type": "execute_result"
    }
   ],
   "source": [
    "## filtrar por ticket y la fecha de creacion y quedarse con la ultima fecha la mas actual y mantener el orden\n",
    "tickets=tickets.sort(by=['TicketID','Fecha Creacion']).unique(\n",
    "    subset='TicketID',\n",
    "    keep=\"last\",\n",
    "    maintain_order=True\n",
    ")\n",
    "tickets.shape"
   ]
  },
  {
   "cell_type": "code",
   "execution_count": 20,
   "metadata": {},
   "outputs": [
    {
     "data": {
      "text/html": [
       "<div><style>\n",
       ".dataframe > thead > tr,\n",
       ".dataframe > tbody > tr {\n",
       "  text-align: right;\n",
       "  white-space: pre-wrap;\n",
       "}\n",
       "</style>\n",
       "<small>shape: (5, 7)</small><table border=\"1\" class=\"dataframe\"><thead><tr><th>TicketID</th><th>Ubicacion</th><th>Service Desk</th><th>Estado</th><th>Fecha Creacion</th><th>Fecha Termino</th><th>Fecha Cierre</th></tr><tr><td>str</td><td>str</td><td>str</td><td>str</td><td>date</td><td>date</td><td>date</td></tr></thead><tbody><tr><td>&quot;WO0000004122302&quot;</td><td>&quot;IMPERIAL - 255001&quot;</td><td>&quot;Zona Norte&quot;</td><td>&quot;Cerrado&quot;</td><td>2022-06-01</td><td>2022-06-10</td><td>2022-06-10</td></tr><tr><td>&quot;WO0000004122303&quot;</td><td>&quot;IMPERIAL - 255001&quot;</td><td>&quot;Zona Norte&quot;</td><td>&quot;Cerrado&quot;</td><td>2022-06-01</td><td>2022-06-17</td><td>2022-06-17</td></tr><tr><td>&quot;WO0000004122353&quot;</td><td>&quot;PLAZA UNION - 191062&quot;</td><td>&quot;Zona Centro&quot;</td><td>&quot;Cerrado&quot;</td><td>2022-06-01</td><td>2022-06-05</td><td>2022-06-05</td></tr><tr><td>&quot;WO0000004122360&quot;</td><td>&quot;AREQUIPA - 215000&quot;</td><td>&quot;Zona Norte&quot;</td><td>&quot;Cerrado&quot;</td><td>2022-06-01</td><td>2022-06-13</td><td>2022-06-13</td></tr><tr><td>&quot;WO0000004122387&quot;</td><td>&quot;PLAZA LIMA NORTE - 191058&quot;</td><td>&quot;Zona Centro&quot;</td><td>&quot;Rechazado&quot;</td><td>2022-06-01</td><td>2022-06-06</td><td>null</td></tr></tbody></table></div>"
      ],
      "text/plain": [
       "shape: (5, 7)\n",
       "┌──────────────┬──────────────┬──────────────┬───────────┬─────────────┬─────────────┬─────────────┐\n",
       "│ TicketID     ┆ Ubicacion    ┆ Service Desk ┆ Estado    ┆ Fecha       ┆ Fecha       ┆ Fecha       │\n",
       "│ ---          ┆ ---          ┆ ---          ┆ ---       ┆ Creacion    ┆ Termino     ┆ Cierre      │\n",
       "│ str          ┆ str          ┆ str          ┆ str       ┆ ---         ┆ ---         ┆ ---         │\n",
       "│              ┆              ┆              ┆           ┆ date        ┆ date        ┆ date        │\n",
       "╞══════════════╪══════════════╪══════════════╪═══════════╪═════════════╪═════════════╪═════════════╡\n",
       "│ WO0000004122 ┆ IMPERIAL -   ┆ Zona Norte   ┆ Cerrado   ┆ 2022-06-01  ┆ 2022-06-10  ┆ 2022-06-10  │\n",
       "│ 302          ┆ 255001       ┆              ┆           ┆             ┆             ┆             │\n",
       "│ WO0000004122 ┆ IMPERIAL -   ┆ Zona Norte   ┆ Cerrado   ┆ 2022-06-01  ┆ 2022-06-17  ┆ 2022-06-17  │\n",
       "│ 303          ┆ 255001       ┆              ┆           ┆             ┆             ┆             │\n",
       "│ WO0000004122 ┆ PLAZA UNION  ┆ Zona Centro  ┆ Cerrado   ┆ 2022-06-01  ┆ 2022-06-05  ┆ 2022-06-05  │\n",
       "│ 353          ┆ - 191062     ┆              ┆           ┆             ┆             ┆             │\n",
       "│ WO0000004122 ┆ AREQUIPA -   ┆ Zona Norte   ┆ Cerrado   ┆ 2022-06-01  ┆ 2022-06-13  ┆ 2022-06-13  │\n",
       "│ 360          ┆ 215000       ┆              ┆           ┆             ┆             ┆             │\n",
       "│ WO0000004122 ┆ PLAZA LIMA   ┆ Zona Centro  ┆ Rechazado ┆ 2022-06-01  ┆ 2022-06-06  ┆ null        │\n",
       "│ 387          ┆ NORTE -      ┆              ┆           ┆             ┆             ┆             │\n",
       "│              ┆ 191058       ┆              ┆           ┆             ┆             ┆             │\n",
       "└──────────────┴──────────────┴──────────────┴───────────┴─────────────┴─────────────┴─────────────┘"
      ]
     },
     "execution_count": 20,
     "metadata": {},
     "output_type": "execute_result"
    }
   ],
   "source": [
    "tickets.head()"
   ]
  },
  {
   "cell_type": "code",
   "execution_count": 21,
   "metadata": {},
   "outputs": [
    {
     "data": {
      "text/html": [
       "<div><style>\n",
       ".dataframe > thead > tr,\n",
       ".dataframe > tbody > tr {\n",
       "  text-align: right;\n",
       "  white-space: pre-wrap;\n",
       "}\n",
       "</style>\n",
       "<small>shape: (5, 8)</small><table border=\"1\" class=\"dataframe\"><thead><tr><th>TicketID</th><th>Agencia</th><th>AgenciaID</th><th>Service Desk</th><th>Estado</th><th>Fecha Creacion</th><th>Fecha Termino</th><th>Fecha Cierre</th></tr><tr><td>str</td><td>str</td><td>i64</td><td>str</td><td>str</td><td>date</td><td>date</td><td>date</td></tr></thead><tbody><tr><td>&quot;WO0000004122302&quot;</td><td>&quot;IMPERIAL&quot;</td><td>255001</td><td>&quot;Zona Norte&quot;</td><td>&quot;Cerrado&quot;</td><td>2022-06-01</td><td>2022-06-10</td><td>2022-06-10</td></tr><tr><td>&quot;WO0000004122303&quot;</td><td>&quot;IMPERIAL&quot;</td><td>255001</td><td>&quot;Zona Norte&quot;</td><td>&quot;Cerrado&quot;</td><td>2022-06-01</td><td>2022-06-17</td><td>2022-06-17</td></tr><tr><td>&quot;WO0000004122353&quot;</td><td>&quot;PLAZA UNION&quot;</td><td>191062</td><td>&quot;Zona Centro&quot;</td><td>&quot;Cerrado&quot;</td><td>2022-06-01</td><td>2022-06-05</td><td>2022-06-05</td></tr><tr><td>&quot;WO0000004122360&quot;</td><td>&quot;AREQUIPA&quot;</td><td>215000</td><td>&quot;Zona Norte&quot;</td><td>&quot;Cerrado&quot;</td><td>2022-06-01</td><td>2022-06-13</td><td>2022-06-13</td></tr><tr><td>&quot;WO0000004122387&quot;</td><td>&quot;PLAZA LIMA NORTE&quot;</td><td>191058</td><td>&quot;Zona Centro&quot;</td><td>&quot;Rechazado&quot;</td><td>2022-06-01</td><td>2022-06-06</td><td>null</td></tr></tbody></table></div>"
      ],
      "text/plain": [
       "shape: (5, 8)\n",
       "┌────────────┬────────────┬───────────┬────────────┬───────────┬───────────┬───────────┬───────────┐\n",
       "│ TicketID   ┆ Agencia    ┆ AgenciaID ┆ Service    ┆ Estado    ┆ Fecha     ┆ Fecha     ┆ Fecha     │\n",
       "│ ---        ┆ ---        ┆ ---       ┆ Desk       ┆ ---       ┆ Creacion  ┆ Termino   ┆ Cierre    │\n",
       "│ str        ┆ str        ┆ i64       ┆ ---        ┆ str       ┆ ---       ┆ ---       ┆ ---       │\n",
       "│            ┆            ┆           ┆ str        ┆           ┆ date      ┆ date      ┆ date      │\n",
       "╞════════════╪════════════╪═══════════╪════════════╪═══════════╪═══════════╪═══════════╪═══════════╡\n",
       "│ WO00000041 ┆ IMPERIAL   ┆ 255001    ┆ Zona Norte ┆ Cerrado   ┆ 2022-06-0 ┆ 2022-06-1 ┆ 2022-06-1 │\n",
       "│ 22302      ┆            ┆           ┆            ┆           ┆ 1         ┆ 0         ┆ 0         │\n",
       "│ WO00000041 ┆ IMPERIAL   ┆ 255001    ┆ Zona Norte ┆ Cerrado   ┆ 2022-06-0 ┆ 2022-06-1 ┆ 2022-06-1 │\n",
       "│ 22303      ┆            ┆           ┆            ┆           ┆ 1         ┆ 7         ┆ 7         │\n",
       "│ WO00000041 ┆ PLAZA      ┆ 191062    ┆ Zona       ┆ Cerrado   ┆ 2022-06-0 ┆ 2022-06-0 ┆ 2022-06-0 │\n",
       "│ 22353      ┆ UNION      ┆           ┆ Centro     ┆           ┆ 1         ┆ 5         ┆ 5         │\n",
       "│ WO00000041 ┆ AREQUIPA   ┆ 215000    ┆ Zona Norte ┆ Cerrado   ┆ 2022-06-0 ┆ 2022-06-1 ┆ 2022-06-1 │\n",
       "│ 22360      ┆            ┆           ┆            ┆           ┆ 1         ┆ 3         ┆ 3         │\n",
       "│ WO00000041 ┆ PLAZA LIMA ┆ 191058    ┆ Zona       ┆ Rechazado ┆ 2022-06-0 ┆ 2022-06-0 ┆ null      │\n",
       "│ 22387      ┆ NORTE      ┆           ┆ Centro     ┆           ┆ 1         ┆ 6         ┆           │\n",
       "└────────────┴────────────┴───────────┴────────────┴───────────┴───────────┴───────────┴───────────┘"
      ]
     },
     "execution_count": 21,
     "metadata": {},
     "output_type": "execute_result"
    }
   ],
   "source": [
    "#Separando la columna Ubicacion\n",
    "tickets=tickets.with_columns(\n",
    "    pl.col('Ubicacion').str.split_exact(' - ',1).\n",
    "    struct.rename_fields(['Agencia','AgenciaID'])\n",
    ").unnest('Ubicacion').cast({\"AgenciaID\":pl.Int64}) \n",
    "\n",
    "tickets.head()\n"
   ]
  },
  {
   "cell_type": "code",
   "execution_count": 22,
   "metadata": {},
   "outputs": [],
   "source": [
    "##restar fechas, si la fecha termino es null colocar fecha cierre,sino utilizar la misma fecha termino\n",
    "##llamar a esta nueva columna Fecha real fin\n",
    "tickets=tickets.with_columns(\n",
    "    pl.coalesce(['Fecha Termino','Fecha Cierre']).alias('Fecha Real Fin')\n",
    ")"
   ]
  },
  {
   "cell_type": "code",
   "execution_count": 23,
   "metadata": {},
   "outputs": [
    {
     "data": {
      "text/html": [
       "<div><style>\n",
       ".dataframe > thead > tr,\n",
       ".dataframe > tbody > tr {\n",
       "  text-align: right;\n",
       "  white-space: pre-wrap;\n",
       "}\n",
       "</style>\n",
       "<small>shape: (5, 9)</small><table border=\"1\" class=\"dataframe\"><thead><tr><th>TicketID</th><th>Agencia</th><th>AgenciaID</th><th>Service Desk</th><th>Estado</th><th>Fecha Creacion</th><th>Fecha Termino</th><th>Fecha Cierre</th><th>Fecha Real Fin</th></tr><tr><td>str</td><td>str</td><td>i64</td><td>str</td><td>str</td><td>date</td><td>date</td><td>date</td><td>date</td></tr></thead><tbody><tr><td>&quot;WO0000004122302&quot;</td><td>&quot;IMPERIAL&quot;</td><td>255001</td><td>&quot;Zona Norte&quot;</td><td>&quot;Cerrado&quot;</td><td>2022-06-01</td><td>2022-06-10</td><td>2022-06-10</td><td>2022-06-10</td></tr><tr><td>&quot;WO0000004122303&quot;</td><td>&quot;IMPERIAL&quot;</td><td>255001</td><td>&quot;Zona Norte&quot;</td><td>&quot;Cerrado&quot;</td><td>2022-06-01</td><td>2022-06-17</td><td>2022-06-17</td><td>2022-06-17</td></tr><tr><td>&quot;WO0000004122353&quot;</td><td>&quot;PLAZA UNION&quot;</td><td>191062</td><td>&quot;Zona Centro&quot;</td><td>&quot;Cerrado&quot;</td><td>2022-06-01</td><td>2022-06-05</td><td>2022-06-05</td><td>2022-06-05</td></tr><tr><td>&quot;WO0000004122360&quot;</td><td>&quot;AREQUIPA&quot;</td><td>215000</td><td>&quot;Zona Norte&quot;</td><td>&quot;Cerrado&quot;</td><td>2022-06-01</td><td>2022-06-13</td><td>2022-06-13</td><td>2022-06-13</td></tr><tr><td>&quot;WO0000004122387&quot;</td><td>&quot;PLAZA LIMA NORTE&quot;</td><td>191058</td><td>&quot;Zona Centro&quot;</td><td>&quot;Rechazado&quot;</td><td>2022-06-01</td><td>2022-06-06</td><td>null</td><td>2022-06-06</td></tr></tbody></table></div>"
      ],
      "text/plain": [
       "shape: (5, 9)\n",
       "┌───────────┬───────────┬───────────┬───────────┬───┬───────────┬───────────┬───────────┬──────────┐\n",
       "│ TicketID  ┆ Agencia   ┆ AgenciaID ┆ Service   ┆ … ┆ Fecha     ┆ Fecha     ┆ Fecha     ┆ Fecha    │\n",
       "│ ---       ┆ ---       ┆ ---       ┆ Desk      ┆   ┆ Creacion  ┆ Termino   ┆ Cierre    ┆ Real Fin │\n",
       "│ str       ┆ str       ┆ i64       ┆ ---       ┆   ┆ ---       ┆ ---       ┆ ---       ┆ ---      │\n",
       "│           ┆           ┆           ┆ str       ┆   ┆ date      ┆ date      ┆ date      ┆ date     │\n",
       "╞═══════════╪═══════════╪═══════════╪═══════════╪═══╪═══════════╪═══════════╪═══════════╪══════════╡\n",
       "│ WO0000004 ┆ IMPERIAL  ┆ 255001    ┆ Zona      ┆ … ┆ 2022-06-0 ┆ 2022-06-1 ┆ 2022-06-1 ┆ 2022-06- │\n",
       "│ 122302    ┆           ┆           ┆ Norte     ┆   ┆ 1         ┆ 0         ┆ 0         ┆ 10       │\n",
       "│ WO0000004 ┆ IMPERIAL  ┆ 255001    ┆ Zona      ┆ … ┆ 2022-06-0 ┆ 2022-06-1 ┆ 2022-06-1 ┆ 2022-06- │\n",
       "│ 122303    ┆           ┆           ┆ Norte     ┆   ┆ 1         ┆ 7         ┆ 7         ┆ 17       │\n",
       "│ WO0000004 ┆ PLAZA     ┆ 191062    ┆ Zona      ┆ … ┆ 2022-06-0 ┆ 2022-06-0 ┆ 2022-06-0 ┆ 2022-06- │\n",
       "│ 122353    ┆ UNION     ┆           ┆ Centro    ┆   ┆ 1         ┆ 5         ┆ 5         ┆ 05       │\n",
       "│ WO0000004 ┆ AREQUIPA  ┆ 215000    ┆ Zona      ┆ … ┆ 2022-06-0 ┆ 2022-06-1 ┆ 2022-06-1 ┆ 2022-06- │\n",
       "│ 122360    ┆           ┆           ┆ Norte     ┆   ┆ 1         ┆ 3         ┆ 3         ┆ 13       │\n",
       "│ WO0000004 ┆ PLAZA     ┆ 191058    ┆ Zona      ┆ … ┆ 2022-06-0 ┆ 2022-06-0 ┆ null      ┆ 2022-06- │\n",
       "│ 122387    ┆ LIMA      ┆           ┆ Centro    ┆   ┆ 1         ┆ 6         ┆           ┆ 06       │\n",
       "│           ┆ NORTE     ┆           ┆           ┆   ┆           ┆           ┆           ┆          │\n",
       "└───────────┴───────────┴───────────┴───────────┴───┴───────────┴───────────┴───────────┴──────────┘"
      ]
     },
     "execution_count": 23,
     "metadata": {},
     "output_type": "execute_result"
    }
   ],
   "source": [
    "tickets.head()"
   ]
  },
  {
   "cell_type": "code",
   "execution_count": 24,
   "metadata": {},
   "outputs": [
    {
     "ename": "IndentationError",
     "evalue": "unexpected indent (4065464019.py, line 2)",
     "output_type": "error",
     "traceback": [
      "\u001b[1;36m  Cell \u001b[1;32mIn[24], line 2\u001b[1;36m\u001b[0m\n\u001b[1;33m    tickets=tickets.with_columns((pl.col('Fecha Real Fin')-pl.col('Fecha Creacion')).dt.total_days().alias(\"Dias Cierre\"))\u001b[0m\n\u001b[1;37m    ^\u001b[0m\n\u001b[1;31mIndentationError\u001b[0m\u001b[1;31m:\u001b[0m unexpected indent\n"
     ]
    }
   ],
   "source": [
    "#Restar fechas :fecha real fin y fecha creacion para saber los dias de entrega.\n",
    " tickets=tickets.with_columns((pl.col('Fecha Real Fin')-pl.col('Fecha Creacion')).dt.total_days().alias(\"Dias Cierre\"))\n",
    "\n",
    "tickets.head()"
   ]
  },
  {
   "cell_type": "code",
   "execution_count": null,
   "metadata": {},
   "outputs": [
    {
     "data": {
      "text/html": [
       "<div><style>\n",
       ".dataframe > thead > tr,\n",
       ".dataframe > tbody > tr {\n",
       "  text-align: right;\n",
       "  white-space: pre-wrap;\n",
       "}\n",
       "</style>\n",
       "<small>shape: (5, 11)</small><table border=\"1\" class=\"dataframe\"><thead><tr><th>TicketID</th><th>Agencia</th><th>AgenciaID</th><th>Service Desk</th><th>Estado</th><th>Fecha Creacion</th><th>Fecha Termino</th><th>Fecha Cierre</th><th>Fecha Real Fin</th><th>Dias Cierre</th><th>Grupo Dias</th></tr><tr><td>str</td><td>str</td><td>i64</td><td>str</td><td>str</td><td>date</td><td>date</td><td>date</td><td>date</td><td>i64</td><td>str</td></tr></thead><tbody><tr><td>&quot;WO0000004122302&quot;</td><td>&quot;IMPERIAL&quot;</td><td>255001</td><td>&quot;Zona Norte&quot;</td><td>&quot;Cerrado&quot;</td><td>2022-06-01</td><td>2022-06-10</td><td>2022-06-10</td><td>2022-06-10</td><td>9</td><td>&quot;7 a 15 dias&quot;</td></tr><tr><td>&quot;WO0000004122303&quot;</td><td>&quot;IMPERIAL&quot;</td><td>255001</td><td>&quot;Zona Norte&quot;</td><td>&quot;Cerrado&quot;</td><td>2022-06-01</td><td>2022-06-17</td><td>2022-06-17</td><td>2022-06-17</td><td>16</td><td>&quot;+ de 15 dias&quot;</td></tr><tr><td>&quot;WO0000004122353&quot;</td><td>&quot;PLAZA UNION&quot;</td><td>191062</td><td>&quot;Zona Centro&quot;</td><td>&quot;Cerrado&quot;</td><td>2022-06-01</td><td>2022-06-05</td><td>2022-06-05</td><td>2022-06-05</td><td>4</td><td>&quot;3 a 7 dias&quot;</td></tr><tr><td>&quot;WO0000004122360&quot;</td><td>&quot;AREQUIPA&quot;</td><td>215000</td><td>&quot;Zona Norte&quot;</td><td>&quot;Cerrado&quot;</td><td>2022-06-01</td><td>2022-06-13</td><td>2022-06-13</td><td>2022-06-13</td><td>12</td><td>&quot;7 a 15 dias&quot;</td></tr><tr><td>&quot;WO0000004122387&quot;</td><td>&quot;PLAZA LIMA NORTE&quot;</td><td>191058</td><td>&quot;Zona Centro&quot;</td><td>&quot;Rechazado&quot;</td><td>2022-06-01</td><td>2022-06-06</td><td>null</td><td>2022-06-06</td><td>5</td><td>&quot;3 a 7 dias&quot;</td></tr></tbody></table></div>"
      ],
      "text/plain": [
       "shape: (5, 11)\n",
       "┌───────────┬───────────┬───────────┬───────────┬───┬───────────┬───────────┬───────────┬──────────┐\n",
       "│ TicketID  ┆ Agencia   ┆ AgenciaID ┆ Service   ┆ … ┆ Fecha     ┆ Fecha     ┆ Dias      ┆ Grupo    │\n",
       "│ ---       ┆ ---       ┆ ---       ┆ Desk      ┆   ┆ Cierre    ┆ Real Fin  ┆ Cierre    ┆ Dias     │\n",
       "│ str       ┆ str       ┆ i64       ┆ ---       ┆   ┆ ---       ┆ ---       ┆ ---       ┆ ---      │\n",
       "│           ┆           ┆           ┆ str       ┆   ┆ date      ┆ date      ┆ i64       ┆ str      │\n",
       "╞═══════════╪═══════════╪═══════════╪═══════════╪═══╪═══════════╪═══════════╪═══════════╪══════════╡\n",
       "│ WO0000004 ┆ IMPERIAL  ┆ 255001    ┆ Zona      ┆ … ┆ 2022-06-1 ┆ 2022-06-1 ┆ 9         ┆ 7 a 15   │\n",
       "│ 122302    ┆           ┆           ┆ Norte     ┆   ┆ 0         ┆ 0         ┆           ┆ dias     │\n",
       "│ WO0000004 ┆ IMPERIAL  ┆ 255001    ┆ Zona      ┆ … ┆ 2022-06-1 ┆ 2022-06-1 ┆ 16        ┆ + de 15  │\n",
       "│ 122303    ┆           ┆           ┆ Norte     ┆   ┆ 7         ┆ 7         ┆           ┆ dias     │\n",
       "│ WO0000004 ┆ PLAZA     ┆ 191062    ┆ Zona      ┆ … ┆ 2022-06-0 ┆ 2022-06-0 ┆ 4         ┆ 3 a 7    │\n",
       "│ 122353    ┆ UNION     ┆           ┆ Centro    ┆   ┆ 5         ┆ 5         ┆           ┆ dias     │\n",
       "│ WO0000004 ┆ AREQUIPA  ┆ 215000    ┆ Zona      ┆ … ┆ 2022-06-1 ┆ 2022-06-1 ┆ 12        ┆ 7 a 15   │\n",
       "│ 122360    ┆           ┆           ┆ Norte     ┆   ┆ 3         ┆ 3         ┆           ┆ dias     │\n",
       "│ WO0000004 ┆ PLAZA     ┆ 191058    ┆ Zona      ┆ … ┆ null      ┆ 2022-06-0 ┆ 5         ┆ 3 a 7    │\n",
       "│ 122387    ┆ LIMA      ┆           ┆ Centro    ┆   ┆           ┆ 6         ┆           ┆ dias     │\n",
       "│           ┆ NORTE     ┆           ┆           ┆   ┆           ┆           ┆           ┆          │\n",
       "└───────────┴───────────┴───────────┴───────────┴───┴───────────┴───────────┴───────────┴──────────┘"
      ]
     },
     "execution_count": 24,
     "metadata": {},
     "output_type": "execute_result"
    }
   ],
   "source": [
    " ##crear columna grupo dias,\n",
    "tickets=tickets.with_columns(\n",
    "    pl.when(pl.col(\"Dias Cierre\").is_null()).then(None)\n",
    "    .when(pl.col('Dias Cierre')<3).then(pl.lit('0 a 3 dias'))\n",
    "    .when(pl.col('Dias Cierre')<7).then(pl.lit('3 a 7 dias'))\n",
    "    .when(pl.col('Dias Cierre')<15).then(pl.lit('7 a 15 dias'))\n",
    "    .otherwise(pl.lit('+ de 15 dias')).alias(\"Grupo Dias\")\n",
    "    )\n",
    "\n",
    "tickets.head()"
   ]
  },
  {
   "cell_type": "markdown",
   "metadata": {},
   "source": [
    "###Atenciones"
   ]
  },
  {
   "cell_type": "code",
   "execution_count": null,
   "metadata": {},
   "outputs": [
    {
     "data": {
      "text/html": [
       "<div><style>\n",
       ".dataframe > thead > tr,\n",
       ".dataframe > tbody > tr {\n",
       "  text-align: right;\n",
       "  white-space: pre-wrap;\n",
       "}\n",
       "</style>\n",
       "<small>shape: (5, 19)</small><table border=\"1\" class=\"dataframe\"><thead><tr><th>Numero Ticket</th><th>Semana de Visita</th><th>Fecha programada</th><th>Fecha Creacion</th><th>Fecha Cierre</th><th>Estado</th><th>Agencia</th><th>Descripción del servicio</th><th>Tipo de Ticket</th><th>Fecha Aprobacion de Cotizacion</th><th>Precio Venta con IGV (con IGV)</th><th>Monto Registrado en Planilla</th><th>Fecha de Registro en Planilla</th><th>Número de SOLPED</th><th>Proveedor</th><th>Costo Atencion</th><th>Unidades</th><th>Número de OS / OC</th><th>Codigo de Conformidad</th></tr><tr><td>str</td><td>str</td><td>date</td><td>date</td><td>date</td><td>str</td><td>str</td><td>str</td><td>str</td><td>i64</td><td>str</td><td>null</td><td>null</td><td>null</td><td>str</td><td>str</td><td>i64</td><td>str</td><td>str</td></tr></thead><tbody><tr><td>&quot;WO0000005584689&quot;</td><td>null</td><td>null</td><td>2023-09-08</td><td>2023-08-17</td><td>&quot;Cerrado&quot;</td><td>&quot;LAS MALVINAS - 191076&quot;</td><td>&quot;Usuario Solicitante: U16620 - POOL EDGARD TORRES CORONEL\r\n",
       "Mi silla Giratoria GDO tiene juego en su b…</td><td>&quot;Variable&quot;</td><td>44095</td><td>&quot;10/03/1900 19:12:00&quot;</td><td>null</td><td>null</td><td>null</td><td>&quot;MR EXPRESS&quot;</td><td>null</td><td>null</td><td>null</td><td>null</td></tr><tr><td>&quot;WO0000004544943&quot;</td><td>null</td><td>null</td><td>2022-10-18</td><td>null</td><td>&quot;Rechazado&quot;</td><td>null</td><td>null</td><td>&quot;Rechazado&quot;</td><td>null</td><td>null</td><td>null</td><td>null</td><td>null</td><td>null</td><td>&quot;100&quot;</td><td>null</td><td>&quot;03678-112022&quot;</td><td>&quot;111903930&quot;</td></tr><tr><td>&quot;WO0000004545246&quot;</td><td>null</td><td>null</td><td>2022-10-18</td><td>null</td><td>&quot;Rechazado&quot;</td><td>null</td><td>null</td><td>&quot;Rechazado&quot;</td><td>null</td><td>null</td><td>null</td><td>null</td><td>null</td><td>null</td><td>&quot;100&quot;</td><td>null</td><td>&quot;02321-112022&quot;</td><td>&quot;111904103&quot;</td></tr><tr><td>&quot;WO0000004559125&quot;</td><td>null</td><td>null</td><td>2022-10-24</td><td>null</td><td>&quot;Rechazado&quot;</td><td>null</td><td>null</td><td>&quot;Rechazado&quot;</td><td>null</td><td>null</td><td>null</td><td>null</td><td>null</td><td>null</td><td>&quot;100&quot;</td><td>null</td><td>null</td><td>&quot;Pendiente de OS HABOM&quot;</td></tr><tr><td>&quot;WO0000004707477&quot;</td><td>null</td><td>null</td><td>2022-11-08</td><td>null</td><td>&quot;Rechazado&quot;</td><td>null</td><td>null</td><td>&quot;Rechazado&quot;</td><td>null</td><td>null</td><td>null</td><td>null</td><td>null</td><td>null</td><td>&quot;100&quot;</td><td>null</td><td>&quot;02918-092022&quot;</td><td>&quot;111900539&quot;</td></tr></tbody></table></div>"
      ],
      "text/plain": [
       "shape: (5, 19)\n",
       "┌───────────┬───────────┬───────────┬───────────┬───┬───────────┬──────────┬───────────┬───────────┐\n",
       "│ Numero    ┆ Semana de ┆ Fecha pro ┆ Fecha     ┆ … ┆ Costo     ┆ Unidades ┆ Número de ┆ Codigo de │\n",
       "│ Ticket    ┆ Visita    ┆ gramada   ┆ Creacion  ┆   ┆ Atencion  ┆ ---      ┆ OS / OC   ┆ Conformid │\n",
       "│ ---       ┆ ---       ┆ ---       ┆ ---       ┆   ┆ ---       ┆ i64      ┆ ---       ┆ ad        │\n",
       "│ str       ┆ str       ┆ date      ┆ date      ┆   ┆ str       ┆          ┆ str       ┆ ---       │\n",
       "│           ┆           ┆           ┆           ┆   ┆           ┆          ┆           ┆ str       │\n",
       "╞═══════════╪═══════════╪═══════════╪═══════════╪═══╪═══════════╪══════════╪═══════════╪═══════════╡\n",
       "│ WO0000005 ┆ null      ┆ null      ┆ 2023-09-0 ┆ … ┆ null      ┆ null     ┆ null      ┆ null      │\n",
       "│ 584689    ┆           ┆           ┆ 8         ┆   ┆           ┆          ┆           ┆           │\n",
       "│ WO0000004 ┆ null      ┆ null      ┆ 2022-10-1 ┆ … ┆ 100       ┆ null     ┆ 03678-112 ┆ 111903930 │\n",
       "│ 544943    ┆           ┆           ┆ 8         ┆   ┆           ┆          ┆ 022       ┆           │\n",
       "│ WO0000004 ┆ null      ┆ null      ┆ 2022-10-1 ┆ … ┆ 100       ┆ null     ┆ 02321-112 ┆ 111904103 │\n",
       "│ 545246    ┆           ┆           ┆ 8         ┆   ┆           ┆          ┆ 022       ┆           │\n",
       "│ WO0000004 ┆ null      ┆ null      ┆ 2022-10-2 ┆ … ┆ 100       ┆ null     ┆ null      ┆ Pendiente │\n",
       "│ 559125    ┆           ┆           ┆ 4         ┆   ┆           ┆          ┆           ┆ de OS     │\n",
       "│           ┆           ┆           ┆           ┆   ┆           ┆          ┆           ┆ HABOM     │\n",
       "│ WO0000004 ┆ null      ┆ null      ┆ 2022-11-0 ┆ … ┆ 100       ┆ null     ┆ 02918-092 ┆ 111900539 │\n",
       "│ 707477    ┆           ┆           ┆ 8         ┆   ┆           ┆          ┆ 022       ┆           │\n",
       "└───────────┴───────────┴───────────┴───────────┴───┴───────────┴──────────┴───────────┴───────────┘"
      ]
     },
     "execution_count": 25,
     "metadata": {},
     "output_type": "execute_result"
    }
   ],
   "source": [
    "pl.read_excel(\n",
    "    source='./Atenciones/Atenciones Centro.xlsx',\n",
    "    engine='calamine'\n",
    ").head(5)"
   ]
  },
  {
   "cell_type": "code",
   "execution_count": null,
   "metadata": {},
   "outputs": [
    {
     "name": "stderr",
     "output_type": "stream",
     "text": [
      "C:\\Users\\luis\\AppData\\Local\\Temp\\ipykernel_9684\\289734734.py:1: DeprecationWarning: The argument `dtypes` for `read_csv` is deprecated. It has been renamed to `schema_overrides`.\n",
      "  dataAtenciones=pl.read_excel(\n"
     ]
    },
    {
     "data": {
      "text/html": [
       "<div><style>\n",
       ".dataframe > thead > tr,\n",
       ".dataframe > tbody > tr {\n",
       "  text-align: right;\n",
       "  white-space: pre-wrap;\n",
       "}\n",
       "</style>\n",
       "<small>shape: (5, 4)</small><table border=\"1\" class=\"dataframe\"><thead><tr><th>Numero Ticket</th><th>Tipo de Ticket</th><th>Proveedor</th><th>Costo Atencion</th></tr><tr><td>str</td><td>str</td><td>str</td><td>str</td></tr></thead><tbody><tr><td>&quot;WO0000005584689&quot;</td><td>&quot;Variable&quot;</td><td>&quot;MR EXPRESS&quot;</td><td>null</td></tr><tr><td>&quot;WO0000004544943&quot;</td><td>&quot;Rechazado&quot;</td><td>null</td><td>&quot;100&quot;</td></tr><tr><td>&quot;WO0000004545246&quot;</td><td>&quot;Rechazado&quot;</td><td>null</td><td>&quot;100&quot;</td></tr><tr><td>&quot;WO0000004559125&quot;</td><td>&quot;Rechazado&quot;</td><td>null</td><td>&quot;100&quot;</td></tr><tr><td>&quot;WO0000004707477&quot;</td><td>&quot;Rechazado&quot;</td><td>null</td><td>&quot;100&quot;</td></tr></tbody></table></div>"
      ],
      "text/plain": [
       "shape: (5, 4)\n",
       "┌─────────────────┬────────────────┬────────────┬────────────────┐\n",
       "│ Numero Ticket   ┆ Tipo de Ticket ┆ Proveedor  ┆ Costo Atencion │\n",
       "│ ---             ┆ ---            ┆ ---        ┆ ---            │\n",
       "│ str             ┆ str            ┆ str        ┆ str            │\n",
       "╞═════════════════╪════════════════╪════════════╪════════════════╡\n",
       "│ WO0000005584689 ┆ Variable       ┆ MR EXPRESS ┆ null           │\n",
       "│ WO0000004544943 ┆ Rechazado      ┆ null       ┆ 100            │\n",
       "│ WO0000004545246 ┆ Rechazado      ┆ null       ┆ 100            │\n",
       "│ WO0000004559125 ┆ Rechazado      ┆ null       ┆ 100            │\n",
       "│ WO0000004707477 ┆ Rechazado      ┆ null       ┆ 100            │\n",
       "└─────────────────┴────────────────┴────────────┴────────────────┘"
      ]
     },
     "execution_count": 26,
     "metadata": {},
     "output_type": "execute_result"
    }
   ],
   "source": [
    "dataAtenciones=pl.read_excel(\n",
    "    source='./Atenciones/Atenciones Centro.xlsx',\n",
    "    engine=\"xlsx2csv\",\n",
    "    read_options={\n",
    "        \"columns\":[\"Numero Ticket\",\"Tipo de Ticket\",\"Proveedor\",\"Costo Atencion\"],\n",
    "        \"dtypes\": {\"Costo Atencion\":pl.Utf8}\n",
    "    }\n",
    ")\n",
    "\n",
    "dataAtenciones.head()"
   ]
  },
  {
   "cell_type": "markdown",
   "metadata": {},
   "source": [
    ". los numeros flotantes o decimales se encriben con \".\"\n",
    ". Reemplazar los valores de \"COSTO CERO\" Y SIN COSTO POR VALORE DE \"0\"\n",
    ". Los otros valores que no aparezcan o no digas \"costo cero\" o \"sin costo\" reemplazarlos por el valor nulo"
   ]
  },
  {
   "cell_type": "code",
   "execution_count": null,
   "metadata": {},
   "outputs": [
    {
     "data": {
      "text/html": [
       "<div><style>\n",
       ".dataframe > thead > tr,\n",
       ".dataframe > tbody > tr {\n",
       "  text-align: right;\n",
       "  white-space: pre-wrap;\n",
       "}\n",
       "</style>\n",
       "<small>shape: (27, 4)</small><table border=\"1\" class=\"dataframe\"><thead><tr><th>TicketID</th><th>Tipo de Ticket</th><th>Proveedor</th><th>Costo Atencion</th></tr><tr><td>str</td><td>str</td><td>str</td><td>str</td></tr></thead><tbody><tr><td>&quot;WO0000005204817&quot;</td><td>&quot;Emergencia&quot;</td><td>&quot;PUNTO CONTROL AMBIENTAL&quot;</td><td>&quot;2249.08&quot;</td></tr><tr><td>&quot;WO0000004872502&quot;</td><td>&quot;Variable&quot;</td><td>&quot;PUNTO CONTROL AMBIENTAL&quot;</td><td>&quot;0&quot;</td></tr><tr><td>&quot;WO0000004896568&quot;</td><td>&quot;Variable&quot;</td><td>&quot;COORPORACION R&amp;M&quot;</td><td>&quot;0&quot;</td></tr><tr><td>&quot;WO0000004900368&quot;</td><td>&quot;Variable&quot;</td><td>&quot;COORPORACION R&amp;M&quot;</td><td>&quot;0&quot;</td></tr><tr><td>&quot;WO0000004902886&quot;</td><td>&quot;Variable&quot;</td><td>&quot;COORPORACION R&amp;M&quot;</td><td>&quot;0&quot;</td></tr><tr><td>&hellip;</td><td>&hellip;</td><td>&hellip;</td><td>&hellip;</td></tr><tr><td>&quot;WO0000005546870&quot;</td><td>&quot;Variable&quot;</td><td>&quot;JGM IMPORT&quot;</td><td>&quot;0&quot;</td></tr><tr><td>&quot;WO0000005586527&quot;</td><td>&quot;Flat&quot;</td><td>&quot;EXTINTORES G&amp;S&quot;</td><td>&quot;0&quot;</td></tr><tr><td>&quot;WO0000005683861&quot;</td><td>&quot;Variable&quot;</td><td>&quot;LIMTEK&quot;</td><td>&quot;0&quot;</td></tr><tr><td>&quot;WO0000005701771&quot;</td><td>&quot;Variable&quot;</td><td>&quot;COORPORACION R&amp;M&quot;</td><td>&quot;0&quot;</td></tr><tr><td>&quot;WO0000005716269&quot;</td><td>&quot;Variable&quot;</td><td>&quot;LIMTEK&quot;</td><td>&quot;0&quot;</td></tr></tbody></table></div>"
      ],
      "text/plain": [
       "shape: (27, 4)\n",
       "┌─────────────────┬────────────────┬─────────────────────────┬────────────────┐\n",
       "│ TicketID        ┆ Tipo de Ticket ┆ Proveedor               ┆ Costo Atencion │\n",
       "│ ---             ┆ ---            ┆ ---                     ┆ ---            │\n",
       "│ str             ┆ str            ┆ str                     ┆ str            │\n",
       "╞═════════════════╪════════════════╪═════════════════════════╪════════════════╡\n",
       "│ WO0000005204817 ┆ Emergencia     ┆ PUNTO CONTROL AMBIENTAL ┆ 2249.08        │\n",
       "│ WO0000004872502 ┆ Variable       ┆ PUNTO CONTROL AMBIENTAL ┆ 0              │\n",
       "│ WO0000004896568 ┆ Variable       ┆ COORPORACION R&M        ┆ 0              │\n",
       "│ WO0000004900368 ┆ Variable       ┆ COORPORACION R&M        ┆ 0              │\n",
       "│ WO0000004902886 ┆ Variable       ┆ COORPORACION R&M        ┆ 0              │\n",
       "│ …               ┆ …              ┆ …                       ┆ …              │\n",
       "│ WO0000005546870 ┆ Variable       ┆ JGM IMPORT              ┆ 0              │\n",
       "│ WO0000005586527 ┆ Flat           ┆ EXTINTORES G&S          ┆ 0              │\n",
       "│ WO0000005683861 ┆ Variable       ┆ LIMTEK                  ┆ 0              │\n",
       "│ WO0000005701771 ┆ Variable       ┆ COORPORACION R&M        ┆ 0              │\n",
       "│ WO0000005716269 ┆ Variable       ┆ LIMTEK                  ┆ 0              │\n",
       "└─────────────────┴────────────────┴─────────────────────────┴────────────────┘"
      ]
     },
     "execution_count": 27,
     "metadata": {},
     "output_type": "execute_result"
    }
   ],
   "source": [
    "dataAtenciones.filter(\n",
    "    (pl.col('Costo Atencion').str.contains(',')) | (pl.col('Costo Atencion').is_in(['COSTO CERO','SIN COSTO']))\n",
    ").select(\n",
    "    pl.col(\"Numero Ticket\").alias(\"TicketID\"), \n",
    "    'Tipo de Ticket','Proveedor',\n",
    "    pl.col('Costo Atencion').str.replace(',','.')\n",
    "      .str.replace_many(['COSTO CERO','SIN COSTO'],'0')  ##reemplazar , por punto\n",
    ")"
   ]
  },
  {
   "cell_type": "code",
   "execution_count": null,
   "metadata": {},
   "outputs": [],
   "source": [
    "dataAtenciones=dataAtenciones.select(\n",
    "    pl.col(\"Numero Ticket\").alias(\"TicketID\"), \n",
    "    'Tipo de Ticket','Proveedor',\n",
    "    pl.col('Costo Atencion').str.replace(',','.').str.replace_many(['COSTO CERO','SIN COSTO'],'0')\n",
    "    )"
   ]
  },
  {
   "cell_type": "code",
   "execution_count": null,
   "metadata": {},
   "outputs": [
    {
     "data": {
      "text/html": [
       "<div><style>\n",
       ".dataframe > thead > tr,\n",
       ".dataframe > tbody > tr {\n",
       "  text-align: right;\n",
       "  white-space: pre-wrap;\n",
       "}\n",
       "</style>\n",
       "<small>shape: (20, 4)</small><table border=\"1\" class=\"dataframe\"><thead><tr><th>TicketID</th><th>Tipo de Ticket</th><th>Proveedor</th><th>Costo Atencion</th></tr><tr><td>str</td><td>str</td><td>str</td><td>str</td></tr></thead><tbody><tr><td>&quot;WO0000005584689&quot;</td><td>&quot;Variable&quot;</td><td>&quot;MR EXPRESS&quot;</td><td>null</td></tr><tr><td>&quot;WO0000004544943&quot;</td><td>&quot;Rechazado&quot;</td><td>null</td><td>&quot;100&quot;</td></tr><tr><td>&quot;WO0000004545246&quot;</td><td>&quot;Rechazado&quot;</td><td>null</td><td>&quot;100&quot;</td></tr><tr><td>&quot;WO0000004559125&quot;</td><td>&quot;Rechazado&quot;</td><td>null</td><td>&quot;100&quot;</td></tr><tr><td>&quot;WO0000004707477&quot;</td><td>&quot;Rechazado&quot;</td><td>null</td><td>&quot;100&quot;</td></tr><tr><td>&hellip;</td><td>&hellip;</td><td>&hellip;</td><td>&hellip;</td></tr><tr><td>&quot;WO0000005418407&quot;</td><td>&quot;Flat&quot;</td><td>&quot;ACCENTURE&quot;</td><td>&quot;100&quot;</td></tr><tr><td>&quot;WO0000005439622&quot;</td><td>&quot;Flat&quot;</td><td>&quot;ACCENTURE&quot;</td><td>&quot;100&quot;</td></tr><tr><td>&quot;WO0000005449290&quot;</td><td>&quot;Flat&quot;</td><td>&quot;ACCENTURE&quot;</td><td>&quot;100&quot;</td></tr><tr><td>&quot;WO0000005452945&quot;</td><td>&quot;Flat&quot;</td><td>&quot;ACCENTURE&quot;</td><td>&quot;100&quot;</td></tr><tr><td>&quot;WO0000005518382&quot;</td><td>&quot;Flat&quot;</td><td>&quot;ACCENTURE&quot;</td><td>&quot;100&quot;</td></tr></tbody></table></div>"
      ],
      "text/plain": [
       "shape: (20, 4)\n",
       "┌─────────────────┬────────────────┬────────────┬────────────────┐\n",
       "│ TicketID        ┆ Tipo de Ticket ┆ Proveedor  ┆ Costo Atencion │\n",
       "│ ---             ┆ ---            ┆ ---        ┆ ---            │\n",
       "│ str             ┆ str            ┆ str        ┆ str            │\n",
       "╞═════════════════╪════════════════╪════════════╪════════════════╡\n",
       "│ WO0000005584689 ┆ Variable       ┆ MR EXPRESS ┆ null           │\n",
       "│ WO0000004544943 ┆ Rechazado      ┆ null       ┆ 100            │\n",
       "│ WO0000004545246 ┆ Rechazado      ┆ null       ┆ 100            │\n",
       "│ WO0000004559125 ┆ Rechazado      ┆ null       ┆ 100            │\n",
       "│ WO0000004707477 ┆ Rechazado      ┆ null       ┆ 100            │\n",
       "│ …               ┆ …              ┆ …          ┆ …              │\n",
       "│ WO0000005418407 ┆ Flat           ┆ ACCENTURE  ┆ 100            │\n",
       "│ WO0000005439622 ┆ Flat           ┆ ACCENTURE  ┆ 100            │\n",
       "│ WO0000005449290 ┆ Flat           ┆ ACCENTURE  ┆ 100            │\n",
       "│ WO0000005452945 ┆ Flat           ┆ ACCENTURE  ┆ 100            │\n",
       "│ WO0000005518382 ┆ Flat           ┆ ACCENTURE  ┆ 100            │\n",
       "└─────────────────┴────────────────┴────────────┴────────────────┘"
      ]
     },
     "execution_count": 29,
     "metadata": {},
     "output_type": "execute_result"
    }
   ],
   "source": [
    "dataAtenciones.head(20)"
   ]
  },
  {
   "cell_type": "code",
   "execution_count": null,
   "metadata": {},
   "outputs": [],
   "source": [
    "def texto_a_decimal(valor :str)->float:\n",
    "    try:\n",
    "        return round(float(valor),2)\n",
    "    except:\n",
    "        return None ##none nulo "
   ]
  },
  {
   "cell_type": "code",
   "execution_count": null,
   "metadata": {},
   "outputs": [
    {
     "data": {
      "text/html": [
       "<div><style>\n",
       ".dataframe > thead > tr,\n",
       ".dataframe > tbody > tr {\n",
       "  text-align: right;\n",
       "  white-space: pre-wrap;\n",
       "}\n",
       "</style>\n",
       "<small>shape: (5, 4)</small><table border=\"1\" class=\"dataframe\"><thead><tr><th>TicketID</th><th>Tipo de Ticket</th><th>Proveedor</th><th>Costo Atencion</th></tr><tr><td>str</td><td>str</td><td>str</td><td>f64</td></tr></thead><tbody><tr><td>&quot;WO0000005584689&quot;</td><td>&quot;Variable&quot;</td><td>&quot;MR EXPRESS&quot;</td><td>null</td></tr><tr><td>&quot;WO0000004544943&quot;</td><td>&quot;Rechazado&quot;</td><td>null</td><td>100.0</td></tr><tr><td>&quot;WO0000004545246&quot;</td><td>&quot;Rechazado&quot;</td><td>null</td><td>100.0</td></tr><tr><td>&quot;WO0000004559125&quot;</td><td>&quot;Rechazado&quot;</td><td>null</td><td>100.0</td></tr><tr><td>&quot;WO0000004707477&quot;</td><td>&quot;Rechazado&quot;</td><td>null</td><td>100.0</td></tr></tbody></table></div>"
      ],
      "text/plain": [
       "shape: (5, 4)\n",
       "┌─────────────────┬────────────────┬────────────┬────────────────┐\n",
       "│ TicketID        ┆ Tipo de Ticket ┆ Proveedor  ┆ Costo Atencion │\n",
       "│ ---             ┆ ---            ┆ ---        ┆ ---            │\n",
       "│ str             ┆ str            ┆ str        ┆ f64            │\n",
       "╞═════════════════╪════════════════╪════════════╪════════════════╡\n",
       "│ WO0000005584689 ┆ Variable       ┆ MR EXPRESS ┆ null           │\n",
       "│ WO0000004544943 ┆ Rechazado      ┆ null       ┆ 100.0          │\n",
       "│ WO0000004545246 ┆ Rechazado      ┆ null       ┆ 100.0          │\n",
       "│ WO0000004559125 ┆ Rechazado      ┆ null       ┆ 100.0          │\n",
       "│ WO0000004707477 ┆ Rechazado      ┆ null       ┆ 100.0          │\n",
       "└─────────────────┴────────────────┴────────────┴────────────────┘"
      ]
     },
     "execution_count": 31,
     "metadata": {},
     "output_type": "execute_result"
    }
   ],
   "source": [
    "#aplicando la function \n",
    "dataAtenciones=dataAtenciones.with_columns(\n",
    "    pl.col('Costo Atencion').map_elements(texto_a_decimal,return_dtype=float).alias('Costo Atencion')    \n",
    "\n",
    ")\n",
    "dataAtenciones.head()"
   ]
  },
  {
   "cell_type": "markdown",
   "metadata": {},
   "source": [
    "###LEYENDO ARCHIVOS DESDE UNA CARPETA"
   ]
  },
  {
   "cell_type": "code",
   "execution_count": null,
   "metadata": {},
   "outputs": [],
   "source": [
    "from pathlib import Path"
   ]
  },
  {
   "cell_type": "code",
   "execution_count": null,
   "metadata": {},
   "outputs": [
    {
     "data": {
      "text/plain": [
       "WindowsPath('Atenciones')"
      ]
     },
     "execution_count": 33,
     "metadata": {},
     "output_type": "execute_result"
    }
   ],
   "source": [
    "rutaCarpeta=Path('./Atenciones')\n",
    "rutaCarpeta"
   ]
  },
  {
   "cell_type": "code",
   "execution_count": null,
   "metadata": {},
   "outputs": [
    {
     "name": "stdout",
     "output_type": "stream",
     "text": [
      "Atenciones Centro.xlsx\n",
      "Atenciones Norte.xlsx\n",
      "Atenciones Sur.xlsx\n"
     ]
    }
   ],
   "source": [
    "#archivos de la carpeta\n",
    "archivosExcel=list(rutaCarpeta.glob('*.xlsx'))\n",
    "\n",
    "for archivo in archivosExcel:\n",
    "    print(archivo.name)"
   ]
  },
  {
   "cell_type": "code",
   "execution_count": null,
   "metadata": {},
   "outputs": [
    {
     "name": "stderr",
     "output_type": "stream",
     "text": [
      "C:\\Users\\luis\\AppData\\Local\\Temp\\ipykernel_9684\\973876699.py:6: DeprecationWarning: The argument `dtypes` for `read_csv` is deprecated. It has been renamed to `schema_overrides`.\n",
      "  aux_df=pl.read_excel(\n"
     ]
    }
   ],
   "source": [
    "dataAtenciones=pl.DataFrame()\n",
    "for archivo in archivosExcel:\n",
    "    file=archivo.name\n",
    "    filepath=f'./Atenciones/{file}'\n",
    "\n",
    "    aux_df=pl.read_excel(\n",
    "        source=filepath,\n",
    "        engine=\"xlsx2csv\",\n",
    "        read_options={\n",
    "            \"columns\":[\"Numero Ticket\",\"Tipo de Ticket\",\"Proveedor\",\"Costo Atencion\"],\n",
    "            \"dtypes\": {\"Costo Atencion\":pl.Utf8}\n",
    "        }\n",
    "    )\n",
    "    aux_df=aux_df.with_columns(\n",
    "        pl.lit(file).alias('Nombre Archivo')\n",
    "    )\n",
    "    dataAtenciones=pl.concat([dataAtenciones,aux_df],how=\"vertical\")\n",
    "\n",
    "    "
   ]
  },
  {
   "cell_type": "code",
   "execution_count": null,
   "metadata": {},
   "outputs": [
    {
     "data": {
      "text/html": [
       "<div><style>\n",
       ".dataframe > thead > tr,\n",
       ".dataframe > tbody > tr {\n",
       "  text-align: right;\n",
       "  white-space: pre-wrap;\n",
       "}\n",
       "</style>\n",
       "<small>shape: (5, 5)</small><table border=\"1\" class=\"dataframe\"><thead><tr><th>Numero Ticket</th><th>Tipo de Ticket</th><th>Proveedor</th><th>Costo Atencion</th><th>Nombre Archivo</th></tr><tr><td>str</td><td>str</td><td>str</td><td>str</td><td>str</td></tr></thead><tbody><tr><td>&quot;WO0000005584689&quot;</td><td>&quot;Variable&quot;</td><td>&quot;MR EXPRESS&quot;</td><td>null</td><td>&quot;Atenciones Centro.xlsx&quot;</td></tr><tr><td>&quot;WO0000004544943&quot;</td><td>&quot;Rechazado&quot;</td><td>null</td><td>&quot;100&quot;</td><td>&quot;Atenciones Centro.xlsx&quot;</td></tr><tr><td>&quot;WO0000004545246&quot;</td><td>&quot;Rechazado&quot;</td><td>null</td><td>&quot;100&quot;</td><td>&quot;Atenciones Centro.xlsx&quot;</td></tr><tr><td>&quot;WO0000004559125&quot;</td><td>&quot;Rechazado&quot;</td><td>null</td><td>&quot;100&quot;</td><td>&quot;Atenciones Centro.xlsx&quot;</td></tr><tr><td>&quot;WO0000004707477&quot;</td><td>&quot;Rechazado&quot;</td><td>null</td><td>&quot;100&quot;</td><td>&quot;Atenciones Centro.xlsx&quot;</td></tr></tbody></table></div>"
      ],
      "text/plain": [
       "shape: (5, 5)\n",
       "┌─────────────────┬────────────────┬────────────┬────────────────┬────────────────────────┐\n",
       "│ Numero Ticket   ┆ Tipo de Ticket ┆ Proveedor  ┆ Costo Atencion ┆ Nombre Archivo         │\n",
       "│ ---             ┆ ---            ┆ ---        ┆ ---            ┆ ---                    │\n",
       "│ str             ┆ str            ┆ str        ┆ str            ┆ str                    │\n",
       "╞═════════════════╪════════════════╪════════════╪════════════════╪════════════════════════╡\n",
       "│ WO0000005584689 ┆ Variable       ┆ MR EXPRESS ┆ null           ┆ Atenciones Centro.xlsx │\n",
       "│ WO0000004544943 ┆ Rechazado      ┆ null       ┆ 100            ┆ Atenciones Centro.xlsx │\n",
       "│ WO0000004545246 ┆ Rechazado      ┆ null       ┆ 100            ┆ Atenciones Centro.xlsx │\n",
       "│ WO0000004559125 ┆ Rechazado      ┆ null       ┆ 100            ┆ Atenciones Centro.xlsx │\n",
       "│ WO0000004707477 ┆ Rechazado      ┆ null       ┆ 100            ┆ Atenciones Centro.xlsx │\n",
       "└─────────────────┴────────────────┴────────────┴────────────────┴────────────────────────┘"
      ]
     },
     "execution_count": 36,
     "metadata": {},
     "output_type": "execute_result"
    }
   ],
   "source": [
    "dataAtenciones.head()"
   ]
  },
  {
   "cell_type": "code",
   "execution_count": null,
   "metadata": {},
   "outputs": [
    {
     "data": {
      "text/html": [
       "<div><style>\n",
       ".dataframe > thead > tr,\n",
       ".dataframe > tbody > tr {\n",
       "  text-align: right;\n",
       "  white-space: pre-wrap;\n",
       "}\n",
       "</style>\n",
       "<small>shape: (3, 1)</small><table border=\"1\" class=\"dataframe\"><thead><tr><th>Nombre Archivo</th></tr><tr><td>str</td></tr></thead><tbody><tr><td>&quot;Atenciones Centro.xlsx&quot;</td></tr><tr><td>&quot;Atenciones Norte.xlsx&quot;</td></tr><tr><td>&quot;Atenciones Sur.xlsx&quot;</td></tr></tbody></table></div>"
      ],
      "text/plain": [
       "shape: (3, 1)\n",
       "┌────────────────────────┐\n",
       "│ Nombre Archivo         │\n",
       "│ ---                    │\n",
       "│ str                    │\n",
       "╞════════════════════════╡\n",
       "│ Atenciones Centro.xlsx │\n",
       "│ Atenciones Norte.xlsx  │\n",
       "│ Atenciones Sur.xlsx    │\n",
       "└────────────────────────┘"
      ]
     },
     "execution_count": 37,
     "metadata": {},
     "output_type": "execute_result"
    }
   ],
   "source": [
    "dataAtenciones.select('Nombre Archivo').unique()"
   ]
  },
  {
   "cell_type": "code",
   "execution_count": null,
   "metadata": {},
   "outputs": [],
   "source": [
    "##transformando data atenciones\n",
    "\n",
    "dataAtenciones=dataAtenciones.select(\n",
    "    pl.col(\"Numero Ticket\").alias(\"TicketID\"), \n",
    "    'Tipo de Ticket','Proveedor',\n",
    "    pl.col('Costo Atencion').str.replace(',','.').str.replace_many(['COSTO CERO','SIN COSTO'],'0')\n",
    "    )"
   ]
  },
  {
   "cell_type": "code",
   "execution_count": null,
   "metadata": {},
   "outputs": [
    {
     "data": {
      "text/html": [
       "<div><style>\n",
       ".dataframe > thead > tr,\n",
       ".dataframe > tbody > tr {\n",
       "  text-align: right;\n",
       "  white-space: pre-wrap;\n",
       "}\n",
       "</style>\n",
       "<small>shape: (5, 4)</small><table border=\"1\" class=\"dataframe\"><thead><tr><th>TicketID</th><th>Tipo de Ticket</th><th>Proveedor</th><th>Costo Atencion</th></tr><tr><td>str</td><td>str</td><td>str</td><td>f64</td></tr></thead><tbody><tr><td>&quot;WO0000005584689&quot;</td><td>&quot;Variable&quot;</td><td>&quot;MR EXPRESS&quot;</td><td>null</td></tr><tr><td>&quot;WO0000004544943&quot;</td><td>&quot;Rechazado&quot;</td><td>null</td><td>100.0</td></tr><tr><td>&quot;WO0000004545246&quot;</td><td>&quot;Rechazado&quot;</td><td>null</td><td>100.0</td></tr><tr><td>&quot;WO0000004559125&quot;</td><td>&quot;Rechazado&quot;</td><td>null</td><td>100.0</td></tr><tr><td>&quot;WO0000004707477&quot;</td><td>&quot;Rechazado&quot;</td><td>null</td><td>100.0</td></tr></tbody></table></div>"
      ],
      "text/plain": [
       "shape: (5, 4)\n",
       "┌─────────────────┬────────────────┬────────────┬────────────────┐\n",
       "│ TicketID        ┆ Tipo de Ticket ┆ Proveedor  ┆ Costo Atencion │\n",
       "│ ---             ┆ ---            ┆ ---        ┆ ---            │\n",
       "│ str             ┆ str            ┆ str        ┆ f64            │\n",
       "╞═════════════════╪════════════════╪════════════╪════════════════╡\n",
       "│ WO0000005584689 ┆ Variable       ┆ MR EXPRESS ┆ null           │\n",
       "│ WO0000004544943 ┆ Rechazado      ┆ null       ┆ 100.0          │\n",
       "│ WO0000004545246 ┆ Rechazado      ┆ null       ┆ 100.0          │\n",
       "│ WO0000004559125 ┆ Rechazado      ┆ null       ┆ 100.0          │\n",
       "│ WO0000004707477 ┆ Rechazado      ┆ null       ┆ 100.0          │\n",
       "└─────────────────┴────────────────┴────────────┴────────────────┘"
      ]
     },
     "execution_count": 39,
     "metadata": {},
     "output_type": "execute_result"
    }
   ],
   "source": [
    "#aplicando la function \n",
    "dataAtenciones=dataAtenciones.with_columns(\n",
    "    pl.col('Costo Atencion').map_elements(texto_a_decimal,return_dtype=float).alias('Costo Atencion')    \n",
    "\n",
    ")\n",
    "dataAtenciones.head()"
   ]
  },
  {
   "cell_type": "code",
   "execution_count": null,
   "metadata": {},
   "outputs": [
    {
     "data": {
      "text/html": [
       "<div><style>\n",
       ".dataframe > thead > tr,\n",
       ".dataframe > tbody > tr {\n",
       "  text-align: right;\n",
       "  white-space: pre-wrap;\n",
       "}\n",
       "</style>\n",
       "<small>shape: (5, 11)</small><table border=\"1\" class=\"dataframe\"><thead><tr><th>TicketID</th><th>Agencia</th><th>AgenciaID</th><th>Service Desk</th><th>Estado</th><th>Fecha Creacion</th><th>Fecha Termino</th><th>Fecha Cierre</th><th>Fecha Real Fin</th><th>Dias Cierre</th><th>Grupo Dias</th></tr><tr><td>str</td><td>str</td><td>i64</td><td>str</td><td>str</td><td>date</td><td>date</td><td>date</td><td>date</td><td>i64</td><td>str</td></tr></thead><tbody><tr><td>&quot;WO0000004122302&quot;</td><td>&quot;IMPERIAL&quot;</td><td>255001</td><td>&quot;Zona Norte&quot;</td><td>&quot;Cerrado&quot;</td><td>2022-06-01</td><td>2022-06-10</td><td>2022-06-10</td><td>2022-06-10</td><td>9</td><td>&quot;7 a 15 dias&quot;</td></tr><tr><td>&quot;WO0000004122303&quot;</td><td>&quot;IMPERIAL&quot;</td><td>255001</td><td>&quot;Zona Norte&quot;</td><td>&quot;Cerrado&quot;</td><td>2022-06-01</td><td>2022-06-17</td><td>2022-06-17</td><td>2022-06-17</td><td>16</td><td>&quot;+ de 15 dias&quot;</td></tr><tr><td>&quot;WO0000004122353&quot;</td><td>&quot;PLAZA UNION&quot;</td><td>191062</td><td>&quot;Zona Centro&quot;</td><td>&quot;Cerrado&quot;</td><td>2022-06-01</td><td>2022-06-05</td><td>2022-06-05</td><td>2022-06-05</td><td>4</td><td>&quot;3 a 7 dias&quot;</td></tr><tr><td>&quot;WO0000004122360&quot;</td><td>&quot;AREQUIPA&quot;</td><td>215000</td><td>&quot;Zona Norte&quot;</td><td>&quot;Cerrado&quot;</td><td>2022-06-01</td><td>2022-06-13</td><td>2022-06-13</td><td>2022-06-13</td><td>12</td><td>&quot;7 a 15 dias&quot;</td></tr><tr><td>&quot;WO0000004122387&quot;</td><td>&quot;PLAZA LIMA NORTE&quot;</td><td>191058</td><td>&quot;Zona Centro&quot;</td><td>&quot;Rechazado&quot;</td><td>2022-06-01</td><td>2022-06-06</td><td>null</td><td>2022-06-06</td><td>5</td><td>&quot;3 a 7 dias&quot;</td></tr></tbody></table></div>"
      ],
      "text/plain": [
       "shape: (5, 11)\n",
       "┌───────────┬───────────┬───────────┬───────────┬───┬───────────┬───────────┬───────────┬──────────┐\n",
       "│ TicketID  ┆ Agencia   ┆ AgenciaID ┆ Service   ┆ … ┆ Fecha     ┆ Fecha     ┆ Dias      ┆ Grupo    │\n",
       "│ ---       ┆ ---       ┆ ---       ┆ Desk      ┆   ┆ Cierre    ┆ Real Fin  ┆ Cierre    ┆ Dias     │\n",
       "│ str       ┆ str       ┆ i64       ┆ ---       ┆   ┆ ---       ┆ ---       ┆ ---       ┆ ---      │\n",
       "│           ┆           ┆           ┆ str       ┆   ┆ date      ┆ date      ┆ i64       ┆ str      │\n",
       "╞═══════════╪═══════════╪═══════════╪═══════════╪═══╪═══════════╪═══════════╪═══════════╪══════════╡\n",
       "│ WO0000004 ┆ IMPERIAL  ┆ 255001    ┆ Zona      ┆ … ┆ 2022-06-1 ┆ 2022-06-1 ┆ 9         ┆ 7 a 15   │\n",
       "│ 122302    ┆           ┆           ┆ Norte     ┆   ┆ 0         ┆ 0         ┆           ┆ dias     │\n",
       "│ WO0000004 ┆ IMPERIAL  ┆ 255001    ┆ Zona      ┆ … ┆ 2022-06-1 ┆ 2022-06-1 ┆ 16        ┆ + de 15  │\n",
       "│ 122303    ┆           ┆           ┆ Norte     ┆   ┆ 7         ┆ 7         ┆           ┆ dias     │\n",
       "│ WO0000004 ┆ PLAZA     ┆ 191062    ┆ Zona      ┆ … ┆ 2022-06-0 ┆ 2022-06-0 ┆ 4         ┆ 3 a 7    │\n",
       "│ 122353    ┆ UNION     ┆           ┆ Centro    ┆   ┆ 5         ┆ 5         ┆           ┆ dias     │\n",
       "│ WO0000004 ┆ AREQUIPA  ┆ 215000    ┆ Zona      ┆ … ┆ 2022-06-1 ┆ 2022-06-1 ┆ 12        ┆ 7 a 15   │\n",
       "│ 122360    ┆           ┆           ┆ Norte     ┆   ┆ 3         ┆ 3         ┆           ┆ dias     │\n",
       "│ WO0000004 ┆ PLAZA     ┆ 191058    ┆ Zona      ┆ … ┆ null      ┆ 2022-06-0 ┆ 5         ┆ 3 a 7    │\n",
       "│ 122387    ┆ LIMA      ┆           ┆ Centro    ┆   ┆           ┆ 6         ┆           ┆ dias     │\n",
       "│           ┆ NORTE     ┆           ┆           ┆   ┆           ┆           ┆           ┆          │\n",
       "└───────────┴───────────┴───────────┴───────────┴───┴───────────┴───────────┴───────────┴──────────┘"
      ]
     },
     "execution_count": 40,
     "metadata": {},
     "output_type": "execute_result"
    }
   ],
   "source": [
    "###combinando las bases\n",
    "tickets.head()"
   ]
  },
  {
   "cell_type": "code",
   "execution_count": null,
   "metadata": {},
   "outputs": [
    {
     "data": {
      "text/html": [
       "<div><style>\n",
       ".dataframe > thead > tr,\n",
       ".dataframe > tbody > tr {\n",
       "  text-align: right;\n",
       "  white-space: pre-wrap;\n",
       "}\n",
       "</style>\n",
       "<small>shape: (5, 4)</small><table border=\"1\" class=\"dataframe\"><thead><tr><th>TicketID</th><th>Tipo de Ticket</th><th>Proveedor</th><th>Costo Atencion</th></tr><tr><td>str</td><td>str</td><td>str</td><td>f64</td></tr></thead><tbody><tr><td>&quot;WO0000005584689&quot;</td><td>&quot;Variable&quot;</td><td>&quot;MR EXPRESS&quot;</td><td>null</td></tr><tr><td>&quot;WO0000004544943&quot;</td><td>&quot;Rechazado&quot;</td><td>null</td><td>100.0</td></tr><tr><td>&quot;WO0000004545246&quot;</td><td>&quot;Rechazado&quot;</td><td>null</td><td>100.0</td></tr><tr><td>&quot;WO0000004559125&quot;</td><td>&quot;Rechazado&quot;</td><td>null</td><td>100.0</td></tr><tr><td>&quot;WO0000004707477&quot;</td><td>&quot;Rechazado&quot;</td><td>null</td><td>100.0</td></tr></tbody></table></div>"
      ],
      "text/plain": [
       "shape: (5, 4)\n",
       "┌─────────────────┬────────────────┬────────────┬────────────────┐\n",
       "│ TicketID        ┆ Tipo de Ticket ┆ Proveedor  ┆ Costo Atencion │\n",
       "│ ---             ┆ ---            ┆ ---        ┆ ---            │\n",
       "│ str             ┆ str            ┆ str        ┆ f64            │\n",
       "╞═════════════════╪════════════════╪════════════╪════════════════╡\n",
       "│ WO0000005584689 ┆ Variable       ┆ MR EXPRESS ┆ null           │\n",
       "│ WO0000004544943 ┆ Rechazado      ┆ null       ┆ 100.0          │\n",
       "│ WO0000004545246 ┆ Rechazado      ┆ null       ┆ 100.0          │\n",
       "│ WO0000004559125 ┆ Rechazado      ┆ null       ┆ 100.0          │\n",
       "│ WO0000004707477 ┆ Rechazado      ┆ null       ┆ 100.0          │\n",
       "└─────────────────┴────────────────┴────────────┴────────────────┘"
      ]
     },
     "execution_count": 41,
     "metadata": {},
     "output_type": "execute_result"
    }
   ],
   "source": [
    "dataAtenciones.head()"
   ]
  },
  {
   "cell_type": "code",
   "execution_count": null,
   "metadata": {},
   "outputs": [],
   "source": [
    "resultado=tickets.join(\n",
    "    dataAtenciones,\n",
    "    left_on='TicketID',\n",
    "    right_on='TicketID',\n",
    "    how='inner'\n",
    ").select(\n",
    "    'TicketID',\n",
    "    'AgenciaID',\n",
    "    'Agencia','Service Desk','Estado','Fecha Creacion','Fecha Real Fin','Grupo Dias',\n",
    "    pl.col('Tipo de Ticket').alias('Tipo Ticket'),\n",
    "    pl.col('Costo Atencion').alias('Costo')\n",
    ")"
   ]
  },
  {
   "cell_type": "code",
   "execution_count": null,
   "metadata": {},
   "outputs": [
    {
     "data": {
      "text/html": [
       "<div><style>\n",
       ".dataframe > thead > tr,\n",
       ".dataframe > tbody > tr {\n",
       "  text-align: right;\n",
       "  white-space: pre-wrap;\n",
       "}\n",
       "</style>\n",
       "<small>shape: (5, 10)</small><table border=\"1\" class=\"dataframe\"><thead><tr><th>TicketID</th><th>AgenciaID</th><th>Agencia</th><th>Service Desk</th><th>Estado</th><th>Fecha Creacion</th><th>Fecha Real Fin</th><th>Grupo Dias</th><th>Tipo Ticket</th><th>Costo</th></tr><tr><td>str</td><td>i64</td><td>str</td><td>str</td><td>str</td><td>date</td><td>date</td><td>str</td><td>str</td><td>f64</td></tr></thead><tbody><tr><td>&quot;WO0000005584689&quot;</td><td>191076</td><td>&quot;LAS MALVINAS&quot;</td><td>&quot;Zona Centro&quot;</td><td>&quot;Cerrado&quot;</td><td>2023-09-08</td><td>2023-09-17</td><td>&quot;7 a 15 dias&quot;</td><td>&quot;Variable&quot;</td><td>null</td></tr><tr><td>&quot;WO0000004544943&quot;</td><td>191053</td><td>&quot;URB SAN FELIPE COMAS&quot;</td><td>&quot;Zona Centro&quot;</td><td>&quot;Rechazado&quot;</td><td>2022-10-18</td><td>2022-10-18</td><td>&quot;0 a 3 dias&quot;</td><td>&quot;Rechazado&quot;</td><td>100.0</td></tr><tr><td>&quot;WO0000004545246&quot;</td><td>191035</td><td>&quot;PUENTE PIEDRA&quot;</td><td>&quot;Zona Centro&quot;</td><td>&quot;Rechazado&quot;</td><td>2022-10-18</td><td>2022-10-18</td><td>&quot;0 a 3 dias&quot;</td><td>&quot;Rechazado&quot;</td><td>100.0</td></tr><tr><td>&quot;WO0000004559125&quot;</td><td>191087</td><td>&quot;EL PINO&quot;</td><td>&quot;Zona Centro&quot;</td><td>&quot;Rechazado&quot;</td><td>2022-10-24</td><td>2022-10-25</td><td>&quot;0 a 3 dias&quot;</td><td>&quot;Rechazado&quot;</td><td>100.0</td></tr><tr><td>&quot;WO0000004707477&quot;</td><td>191044</td><td>&quot;LAS ALONDRAS&quot;</td><td>&quot;Zona Centro&quot;</td><td>&quot;Rechazado&quot;</td><td>2022-11-08</td><td>null</td><td>null</td><td>&quot;Rechazado&quot;</td><td>100.0</td></tr></tbody></table></div>"
      ],
      "text/plain": [
       "shape: (5, 10)\n",
       "┌──────────────┬───────────┬──────────┬─────────┬───┬──────────────┬────────┬──────────────┬───────┐\n",
       "│ TicketID     ┆ AgenciaID ┆ Agencia  ┆ Service ┆ … ┆ Fecha Real   ┆ Grupo  ┆ Tipo Ticket  ┆ Costo │\n",
       "│ ---          ┆ ---       ┆ ---      ┆ Desk    ┆   ┆ Fin          ┆ Dias   ┆ ---          ┆ ---   │\n",
       "│ str          ┆ i64       ┆ str      ┆ ---     ┆   ┆ ---          ┆ ---    ┆ str          ┆ f64   │\n",
       "│              ┆           ┆          ┆ str     ┆   ┆ date         ┆ str    ┆              ┆       │\n",
       "╞══════════════╪═══════════╪══════════╪═════════╪═══╪══════════════╪════════╪══════════════╪═══════╡\n",
       "│ WO0000005584 ┆ 191076    ┆ LAS      ┆ Zona    ┆ … ┆ 2023-09-17   ┆ 7 a 15 ┆ Variable     ┆ null  │\n",
       "│ 689          ┆           ┆ MALVINAS ┆ Centro  ┆   ┆              ┆ dias   ┆              ┆       │\n",
       "│ WO0000004544 ┆ 191053    ┆ URB SAN  ┆ Zona    ┆ … ┆ 2022-10-18   ┆ 0 a 3  ┆ Rechazado    ┆ 100.0 │\n",
       "│ 943          ┆           ┆ FELIPE   ┆ Centro  ┆   ┆              ┆ dias   ┆              ┆       │\n",
       "│              ┆           ┆ COMAS    ┆         ┆   ┆              ┆        ┆              ┆       │\n",
       "│ WO0000004545 ┆ 191035    ┆ PUENTE   ┆ Zona    ┆ … ┆ 2022-10-18   ┆ 0 a 3  ┆ Rechazado    ┆ 100.0 │\n",
       "│ 246          ┆           ┆ PIEDRA   ┆ Centro  ┆   ┆              ┆ dias   ┆              ┆       │\n",
       "│ WO0000004559 ┆ 191087    ┆ EL PINO  ┆ Zona    ┆ … ┆ 2022-10-25   ┆ 0 a 3  ┆ Rechazado    ┆ 100.0 │\n",
       "│ 125          ┆           ┆          ┆ Centro  ┆   ┆              ┆ dias   ┆              ┆       │\n",
       "│ WO0000004707 ┆ 191044    ┆ LAS      ┆ Zona    ┆ … ┆ null         ┆ null   ┆ Rechazado    ┆ 100.0 │\n",
       "│ 477          ┆           ┆ ALONDRAS ┆ Centro  ┆   ┆              ┆        ┆              ┆       │\n",
       "└──────────────┴───────────┴──────────┴─────────┴───┴──────────────┴────────┴──────────────┴───────┘"
      ]
     },
     "execution_count": 43,
     "metadata": {},
     "output_type": "execute_result"
    }
   ],
   "source": [
    "resultado.head()"
   ]
  },
  {
   "cell_type": "code",
   "execution_count": null,
   "metadata": {},
   "outputs": [
    {
     "data": {
      "text/plain": [
       "<xlsxwriter.workbook.Workbook at 0x20a0da6e5d0>"
      ]
     },
     "execution_count": 48,
     "metadata": {},
     "output_type": "execute_result"
    }
   ],
   "source": [
    "###exportar \n",
    "resultado.write_excel(\n",
    "    workbook='Resultado Final.xlsx',\n",
    "    worksheet='Consolidado',\n",
    "    autofit=True,\n",
    "    table_style='Table Style Medium 4',\n",
    "    dtype_formats={pl.Date:'dd/mm/yyyy'},   ##las columas tipos fechas entre otros\n",
    "    float_precision=1,  ##un solo decimal\n",
    "    column_totals={'Costo':'sum'}\n",
    "    \n",
    "     \n",
    ")"
   ]
  }
 ],
 "metadata": {
  "kernelspec": {
   "display_name": "vEdicion",
   "language": "python",
   "name": "python3"
  },
  "language_info": {
   "codemirror_mode": {
    "name": "ipython",
    "version": 3
   },
   "file_extension": ".py",
   "mimetype": "text/x-python",
   "name": "python",
   "nbconvert_exporter": "python",
   "pygments_lexer": "ipython3",
   "version": "3.12.3"
  }
 },
 "nbformat": 4,
 "nbformat_minor": 2
}
